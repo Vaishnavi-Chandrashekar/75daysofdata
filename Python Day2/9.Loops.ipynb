{
 "cells": [
  {
   "cell_type": "markdown",
   "metadata": {},
   "source": [
    "->  `For loop`\n",
    "In Python, a `for` loop is used to iterate over a sequence (such as a list, tuple, string, or range) or any iterable object. It executes a block of code once for each item in the sequence. The basic syntax of a `for` loop is as follows:\n",
    "    \n",
    "\n",
    "    for item in sequence:\n",
    "        # code block to execute for each item in the sequence\n",
    "\n",
    "-> You can also use the `range()` function to generate a sequence of numbers to iterate over:\n",
    "    \n",
    "    \n",
    "    for i in range(5):\n",
    "        print(i)\n",
    "    \n",
    "    \n",
    "This will print numbers from 0 to 4.\n",
    "    \n",
    "-> The `for` loop can also be combined with the `else` block, which is executed when the loop completes its iterations without any `break` statements being encountered:\n",
    "    \n",
    "\n",
    "    for i in range(5):\n",
    "        print(i)\n",
    "    else:\n",
    "        print(\"Loop completed without encountering a break statement.\")\n",
    "    ```\n",
    "    \n",
    "This will print the numbers from 0 to 4 and then print \"Loop completed without encountering a break statement.\"\n",
    "    \n",
    "The `for` loop is versatile and commonly used in Python for tasks that involve iterating over collections or performing repetitive actions."
   ]
  },
  {
   "cell_type": "code",
   "execution_count": 2,
   "metadata": {},
   "outputs": [
    {
     "name": "stdout",
     "output_type": "stream",
     "text": [
      "0\n",
      "1\n",
      "2\n",
      "3\n",
      "4\n"
     ]
    }
   ],
   "source": [
    "#for loop\n",
    "\n",
    "for i in range(5):\n",
    "    print(i)"
   ]
  },
  {
   "cell_type": "code",
   "execution_count": 4,
   "metadata": {},
   "outputs": [
    {
     "name": "stdout",
     "output_type": "stream",
     "text": [
      "1 2 3 4 5 "
     ]
    }
   ],
   "source": [
    "for i in range(1,6):\n",
    "    print(i, end=' ')"
   ]
  },
  {
   "cell_type": "code",
   "execution_count": 6,
   "metadata": {},
   "outputs": [
    {
     "name": "stdout",
     "output_type": "stream",
     "text": [
      "1 4 7 10 13 16 19 "
     ]
    }
   ],
   "source": [
    "for i in range(1,20,3):\n",
    "    print(i, end=' ')"
   ]
  },
  {
   "cell_type": "code",
   "execution_count": 9,
   "metadata": {},
   "outputs": [
    {
     "name": "stdout",
     "output_type": "stream",
     "text": [
      "20 18 16 14 12 10 8 6 4 2 "
     ]
    }
   ],
   "source": [
    "for i in range(20,1,-2):\n",
    "    print(i, end=' ')"
   ]
  },
  {
   "cell_type": "code",
   "execution_count": 12,
   "metadata": {},
   "outputs": [
    {
     "name": "stdout",
     "output_type": "stream",
     "text": [
      "t a r a "
     ]
    }
   ],
   "source": [
    "name = 'tara'\n",
    "for i in name:\n",
    "    print(i, end=' ')"
   ]
  },
  {
   "cell_type": "code",
   "execution_count": 29,
   "metadata": {},
   "outputs": [
    {
     "name": "stdout",
     "output_type": "stream",
     "text": [
      "apple\n",
      "banana\n",
      "cherry\n"
     ]
    }
   ],
   "source": [
    "\tfruits = [\"apple\", \"banana\", \"cherry\"]\n",
    "\tfor fruit in fruits:\n",
    "\t    print(fruit)\n"
   ]
  },
  {
   "cell_type": "markdown",
   "metadata": {},
   "source": [
    "-> `While loop`\n",
    "Certainly! In Python, a `while` loop is used to repeatedly execute a block of code as long as a specified condition is true. Unlike `for` loops which iterate over a sequence, `while` loops iterate based on a condition. The basic syntax of a `while` loop is as follows:\n",
    "    \n",
    "    \n",
    "    while condition:\n",
    "        # code block to execute while the condition is true\n",
    "    \n"
   ]
  },
  {
   "cell_type": "code",
   "execution_count": 17,
   "metadata": {},
   "outputs": [
    {
     "name": "stdout",
     "output_type": "stream",
     "text": [
      "0 1 2 3 4 \n",
      " 5\n"
     ]
    }
   ],
   "source": [
    "#while loop: continues to execute as long as the condition is true\n",
    "count = 0\n",
    "\n",
    "while count<5:\n",
    "    print(count, end = ' ')\n",
    "    count = count+1\n",
    "print('\\n', count)"
   ]
  },
  {
   "cell_type": "markdown",
   "metadata": {},
   "source": [
    "In this example, the `while` loop continues iterating as long as the `count` variable is less than 5. Inside the loop, `count` is printed, and then incremented by 1. This loop will print numbers from 0 to 4.\n",
    "    \n",
    "It's essential to ensure that the condition inside the `while` loop will eventually evaluate to `False` to avoid infinite loops, where the loop continues indefinitely. To avoid this, you typically update the variables inside the loop so that the condition becomes false at some point.\n",
    "    \n",
    "Here's an example of an infinite loop:\n",
    "    \n",
    "    \n",
    "    # Infinite loop\n",
    "    while True:\n",
    "        print(\"This will run forever!\")"
   ]
  },
  {
   "cell_type": "markdown",
   "metadata": {},
   "source": [
    "-> `Nested for loop in python`\n",
    "Nested `for` loops in Python allow you to iterate over multiple sequences or ranges within each other. This is often used when you have a list of lists or a 2D array, where you want to iterate over each element in each row or column. The basic syntax of a nested `for` loop looks like this:\n",
    "    \n",
    "\n",
    "    for item1 in sequence1:\n",
    "        for item2 in sequence2:\n",
    "            # code block to execute for each combination of item1 and item2\n"
   ]
  },
  {
   "cell_type": "code",
   "execution_count": 30,
   "metadata": {},
   "outputs": [
    {
     "name": "stdout",
     "output_type": "stream",
     "text": [
      "i:  0 and j:  0\n",
      "i:  0 and j:  1\n",
      "i:  1 and j:  0\n",
      "i:  1 and j:  1\n",
      "i:  2 and j:  0\n",
      "i:  2 and j:  1\n"
     ]
    }
   ],
   "source": [
    "#nested loops\n",
    "for i in range(3):\n",
    "    for j in range(2):\n",
    "        print('i: ',i, 'and j: ', j)"
   ]
  },
  {
   "cell_type": "markdown",
   "metadata": {},
   "source": [
    "# Loop Control Statements\n",
    "    \n",
    "->  Break statement\n",
    "In Python, the `break` statement is used to exit or terminate a loop prematurely, before its normal completion. It can be used within both `for` and `while` loops. When a `break` statement is encountered inside a loop, the loop immediately terminates, and the program continues executing the code that follows the loop.\n",
    "    \n",
    "Here's the basic syntax of the `break` statement:\n",
    "    \n",
    "\n",
    "    while condition:\n",
    "        # code block\n",
    "        if condition_to_exit_loop:\n",
    "            break\n",
    "        # more code\n",
    "\n",
    "Or with a `for` loop:\n",
    "    \n",
    "    for item in sequence:\n",
    "        # code block\n",
    "        if condition_to_exit_loop:\n",
    "            break\n",
    "        # more code\n"
   ]
  },
  {
   "cell_type": "code",
   "execution_count": 19,
   "metadata": {},
   "outputs": [
    {
     "name": "stdout",
     "output_type": "stream",
     "text": [
      "0 1 2 3 4 "
     ]
    }
   ],
   "source": [
    "#loop control statements\n",
    "#break statement: exists the loop prematurely\n",
    "\n",
    "for i in range(10):\n",
    "    if i == 5: \n",
    "        break #break when i is 5\n",
    "    print(i, end = ' ')\n",
    "    "
   ]
  },
  {
   "cell_type": "code",
   "execution_count": 42,
   "metadata": {},
   "outputs": [
    {
     "name": "stdout",
     "output_type": "stream",
     "text": [
      "0\n",
      "1\n",
      "2\n",
      "3\n",
      "4\n"
     ]
    }
   ],
   "source": [
    "\tx = 0\n",
    "\twhile True:\n",
    "\t    print(x)\n",
    "\t    x += 1\n",
    "\t    if x >= 5:\n",
    "\t        break"
   ]
  },
  {
   "cell_type": "code",
   "execution_count": 43,
   "metadata": {},
   "outputs": [
    {
     "name": "stdout",
     "output_type": "stream",
     "text": [
      "apple\n",
      "banana\n",
      "cherry\n"
     ]
    }
   ],
   "source": [
    "\tfruits = [\"apple\", \"banana\", \"cherry\", \"date\"]\n",
    "\tfor fruit in fruits:\n",
    "\t    print(fruit)\n",
    "\t    if fruit == \"cherry\":\n",
    "\t        break\n"
   ]
  },
  {
   "cell_type": "markdown",
   "metadata": {},
   "source": [
    "->  Continue Statement\n",
    "In Python, the `continue` statement is used inside loops (both `for` and `while` loops) to skip the rest of the code inside the loop for the current iteration and continue to the next iteration. It effectively tells Python to ignore the remaining code in the loop for the current iteration and jump to the next iteration.\n",
    "    \n",
    "Here's the basic syntax of the `continue` statement:\n",
    "    \n",
    "    \n",
    "    while condition:\n",
    "        # code block\n",
    "        if condition_to_skip:\n",
    "            continue\n",
    "        # more code\n",
    "    \n",
    "    \n",
    "Or with a `for` loop:\n",
    "    \n",
    "\n",
    "    for item in sequence:\n",
    "        # code block\n",
    "        if condition_to_skip:\n",
    "            continue\n",
    "        # more code\n"
   ]
  },
  {
   "cell_type": "code",
   "execution_count": 22,
   "metadata": {},
   "outputs": [
    {
     "name": "stdout",
     "output_type": "stream",
     "text": [
      "1 3 5 7 9 "
     ]
    }
   ],
   "source": [
    "#continue statement: skips the current iteration and cotinues with the next\n",
    "\n",
    "for i in range(10):\n",
    "    if i%2 == 0: #if i is even number then continue, if odd then print\n",
    "        continue #i will be printed only if i%2 is not equal to 0\n",
    "    print(i, end=' ')"
   ]
  },
  {
   "cell_type": "code",
   "execution_count": 45,
   "metadata": {},
   "outputs": [
    {
     "name": "stdout",
     "output_type": "stream",
     "text": [
      "1\n",
      "2\n",
      "4\n",
      "5\n"
     ]
    },
    {
     "data": {
      "text/plain": [
       "'\\tIn this example, the loop iterates over values of `x` from 1 to 5. However, when `x` is equal to 3, the `continue` statement is executed, causing the loop to skip printing 3 and immediately jump to the next iteration.\\n'"
      ]
     },
     "execution_count": 45,
     "metadata": {},
     "output_type": "execute_result"
    }
   ],
   "source": [
    "\tx = 0\n",
    "\twhile x < 5:\n",
    "\t    x += 1\n",
    "\t    if x == 3: \n",
    "\t        continue  #skips x == 3 and again goes back to the while condition\n",
    "\t    print(x)\n",
    "'''\tIn this example, the loop iterates over values of `x` from 1 to 5. However, when `x` is equal to 3, the `continue` statement is executed, causing the loop to skip printing 3 and immediately jump to the next iteration.\n",
    "'''"
   ]
  },
  {
   "cell_type": "code",
   "execution_count": 46,
   "metadata": {},
   "outputs": [
    {
     "name": "stdout",
     "output_type": "stream",
     "text": [
      "apple\n",
      "banana\n",
      "date\n"
     ]
    }
   ],
   "source": [
    "\tfruits = [\"apple\", \"banana\", \"cherry\", \"date\"]\n",
    "\tfor fruit in fruits:\n",
    "\t    if fruit == \"cherry\":\n",
    "\t        continue\n",
    "\t    print(fruit)\n"
   ]
  },
  {
   "cell_type": "markdown",
   "metadata": {},
   "source": [
    "\n",
    "-> `Pass statement`\n",
    "In Python, the `pass` statement is a null operation, meaning it does nothing when executed. It's used as a placeholder where syntactically a statement is required, but no action needs to be taken. \n",
    "    \n",
    "The `pass` statement is typically used when a statement is syntactically required but you don't want to execute any code. It's often used as a placeholder for code that you intend to implement later. \n",
    "    \n",
    "    Here's a basic example:\n",
    "    \n",
    "    if condition:\n",
    "        pass  # placeholder for future code\n",
    "    else:\n",
    "        # code block\n",
    "    \n",
    "    \n",
    "Without the `pass` statement, the code would raise an error because Python expects an indented block of code after the `if` statement. The `pass` statement allows the code to be syntactically correct without executing any code in that branch.\n",
    "    \n",
    "Similarly, `pass` can be used in function definitions, loops, and other control structures where code is expected:\n",
    "    \n",
    "    def my_function():\n",
    "        pass  # placeholder for function implementation\n",
    "    \n",
    "    for i in range(10):\n",
    "        if i == 5:\n",
    "            pass  # placeholder for handling a specific case later\n",
    "        else:\n",
    "            # code block\n",
    "    \n",
    "In summary, `pass` is a way to handle situations where you need a statement syntactically but don't want to execute any code at that point. It's particularly useful during initial development or when you need to create a placeholder for future implementation.\n"
   ]
  },
  {
   "cell_type": "code",
   "execution_count": 24,
   "metadata": {},
   "outputs": [
    {
     "name": "stdout",
     "output_type": "stream",
     "text": [
      "0\n",
      "1\n",
      "2\n",
      "3\n",
      "4\n"
     ]
    }
   ],
   "source": [
    "#pass statement: is a null operation, it does nothing\n",
    "\n",
    "for i in range(5):\n",
    "    if i == 3:\n",
    "        #print('the number is ', i)\n",
    "        pass\n",
    "    print(i)"
   ]
  },
  {
   "cell_type": "markdown",
   "metadata": {},
   "source": [
    "#examples"
   ]
  },
  {
   "cell_type": "code",
   "execution_count": 26,
   "metadata": {},
   "outputs": [
    {
     "name": "stdout",
     "output_type": "stream",
     "text": [
      "15\n"
     ]
    }
   ],
   "source": [
    "#calculate the sum of first of N natural numbers using a while and for loop\n",
    "n = int(input('enter the nth number'))\n",
    "sum = 0\n",
    "\n",
    "while n>0:\n",
    "    sum = sum + n\n",
    "    n = n - 1\n",
    "print(sum)\n",
    "\n",
    "\n",
    "for i in range(1, n+1):\n",
    "    i in "
   ]
  },
  {
   "cell_type": "code",
   "execution_count": null,
   "metadata": {},
   "outputs": [],
   "source": []
  },
  {
   "cell_type": "code",
   "execution_count": 27,
   "metadata": {},
   "outputs": [
    {
     "name": "stdout",
     "output_type": "stream",
     "text": [
      "15\n"
     ]
    }
   ],
   "source": [
    "n = int(input('enter the nth number'))\n",
    "sum = 0\n",
    "\n",
    "for i in range(1, n+1):\n",
    "    sum = sum + i\n",
    "    \n",
    "print(sum) "
   ]
  },
  {
   "cell_type": "code",
   "execution_count": 28,
   "metadata": {},
   "outputs": [
    {
     "name": "stdout",
     "output_type": "stream",
     "text": [
      "2 3 5 7 11 13 17 19 23 29 31 37 41 43 47 53 59 61 67 71 73 79 83 89 97 "
     ]
    }
   ],
   "source": [
    "#prime numbers between 1 and 100\n",
    "\n",
    "for num in range(1, 101):\n",
    "    if num>1:\n",
    "        for i in range(2, num):\n",
    "            if num%i == 0:\n",
    "                break\n",
    "        else:\n",
    "            print(num, end =' ')"
   ]
  },
  {
   "cell_type": "code",
   "execution_count": null,
   "metadata": {},
   "outputs": [],
   "source": []
  }
 ],
 "metadata": {
  "kernelspec": {
   "display_name": "Python 3",
   "language": "python",
   "name": "python3"
  },
  "language_info": {
   "codemirror_mode": {
    "name": "ipython",
    "version": 3
   },
   "file_extension": ".py",
   "mimetype": "text/x-python",
   "name": "python",
   "nbconvert_exporter": "python",
   "pygments_lexer": "ipython3",
   "version": "3.12.0"
  }
 },
 "nbformat": 4,
 "nbformat_minor": 2
}
