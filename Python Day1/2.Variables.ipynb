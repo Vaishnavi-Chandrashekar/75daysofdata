{
 "cells": [
  {
   "cell_type": "markdown",
   "metadata": {},
   "source": [
    "    -> Variables in python\n",
    "In Python, variables are used to store data values. Unlike some other programming languages, you don't need to declare the data type of a variable explicitly in Python; the interpreter automatically determines the type based on the value assigned to it. Here's how you can work with variables in Python:\n",
    "\n",
    "1. **Variable Naming**: Variable names in Python can contain letters, numbers, and underscores, but they cannot start with a number. Additionally, Python is case-sensitive, so `my_variable` and `My_Variable` would be treated as two different variables.\n",
    "\n",
    "2. **Variable Assignment**: You can assign values to variables using the `=` operator. For example:\n",
    "   ```python\n",
    "   x = 5\n",
    "   name = \"John\"\n",
    "   is_student = True\n",
    "   ```\n",
    "\n",
    "3. **Data Types**: Python supports various data types, including integers, floats, strings, booleans, lists, tuples, dictionaries, and more. The type of a variable is determined dynamically based on the value assigned to it. For example:\n",
    "   ```python\n",
    "   x = 5        # integer\n",
    "   y = 3.14     # float\n",
    "   name = \"John\"   # string\n",
    "   is_student = True   # boolean\n",
    "   ```\n",
    "\n",
    "4. **Type Conversion**: You can convert variables from one data type to another using built-in functions like `int()`, `float()`, `str()`, etc. For example:\n",
    "   ```python\n",
    "   x = \"5\"\n",
    "   y = int(x)   # y will be an integer with value 5\n",
    "   ```\n",
    "\n",
    "5. **Variable Reassignment**: You can change the value of a variable by simply assigning it a new value. For example:\n",
    "   ```python\n",
    "   x = 5\n",
    "   x = 10   # Now x is reassigned with a new value 10\n",
    "   ```\n",
    "\n",
    "6. **Printing Variables**: You can print the value of a variable using the `print()` function. For example:\n",
    "   ```python\n",
    "   x = 5\n",
    "   print(x)   # This will print the value of x, which is 5\n",
    "   ```\n",
    "\n",
    "Variables in Python are very flexible and can hold different types of data. This dynamic nature of variables is one of the reasons Python is popular among developers."
   ]
  },
  {
   "cell_type": "code",
   "execution_count": 1,
   "metadata": {},
   "outputs": [],
   "source": [
    "a  = 3"
   ]
  },
  {
   "cell_type": "code",
   "execution_count": 3,
   "metadata": {},
   "outputs": [
    {
     "name": "stdout",
     "output_type": "stream",
     "text": [
      "age:  24\n",
      "height:  160 cms\n",
      "name:  tara\n"
     ]
    }
   ],
   "source": [
    "#decelaring and assigning variables\n",
    "age = 24\n",
    "height = 160\n",
    "name = 'tara'\n",
    "is_student = True\n",
    "\n",
    "print('age: ', age)\n",
    "print('height: ', height, 'cms')\n",
    "print('name: ', name)"
   ]
  },
  {
   "cell_type": "code",
   "execution_count": 10,
   "metadata": {},
   "outputs": [
    {
     "name": "stdout",
     "output_type": "stream",
     "text": [
      "57.5\n",
      "57\n"
     ]
    }
   ],
   "source": [
    "# type conversion\n",
    "import math\n",
    "\n",
    "weight = 57.5\n",
    "print(weight)\n",
    "print(int(weight))"
   ]
  },
  {
   "cell_type": "code",
   "execution_count": 13,
   "metadata": {},
   "outputs": [
    {
     "name": "stdout",
     "output_type": "stream",
     "text": [
      "10 <class 'int'>\n",
      "hello <class 'str'>\n",
      "57.5 <class 'float'>\n"
     ]
    }
   ],
   "source": [
    "#dynamic typing - python allows the type of a variable to change as the program executes\n",
    "var = 10 #int\n",
    "print(var, type(var))\n",
    " \n",
    "var = 'hello'\n",
    "print(var, type(var))\n",
    " \n",
    "var = 57.5\n",
    "print(var, type(var))"
   ]
  },
  {
   "cell_type": "markdown",
   "metadata": {},
   "source": [
    "    -> User input\n",
    "In Python, you can use the `input()` function to get input from the user interactively. The `input()` function pauses the execution of the program and waits for the user to enter some text. Once the user presses the Enter key, the input provided by the user is returned as a string. Here's how you can use the `input()` function:\n",
    "\n"
   ]
  },
  {
   "cell_type": "code",
   "execution_count": 16,
   "metadata": {},
   "outputs": [
    {
     "name": "stdout",
     "output_type": "stream",
     "text": [
      "Hello, tara!\n"
     ]
    }
   ],
   "source": [
    "# Getting input from the user\n",
    "name = input(\"Enter your name: \")\n",
    "print(\"Hello, \" + name + \"!\")"
   ]
  },
  {
   "cell_type": "code",
   "execution_count": 15,
   "metadata": {},
   "outputs": [
    {
     "name": "stdout",
     "output_type": "stream",
     "text": [
      "You are 24 years old.\n"
     ]
    }
   ],
   "source": [
    "\n",
    "# You can convert the input to other data types if needed\n",
    "age = int(input(\"Enter your age: \"))\n",
    "print(\"You are\", age, \"years old.\")"
   ]
  },
  {
   "cell_type": "markdown",
   "metadata": {},
   "source": [
    "When you run this code, it will prompt the user to enter their name. After the user enters their name and presses Enter, the program will display a greeting message with the entered name. Similarly, the program will prompt the user to enter their age, and the entered age will be converted to an integer using `int()` before printing it out.\n",
    "\n",
    "The `input()` function always returns a string, so if you expect the user to enter a different data type (like an integer or a float), you'll need to convert the input using the appropriate type casting function (`int()`, `float()`, etc.). Also, note that `input()` function waits for user input indefinitely, so the program will be paused until the user provides input and presses Enter."
   ]
  },
  {
   "cell_type": "code",
   "execution_count": null,
   "metadata": {},
   "outputs": [],
   "source": []
  }
 ],
 "metadata": {
  "kernelspec": {
   "display_name": "Python 3",
   "language": "python",
   "name": "python3"
  },
  "language_info": {
   "codemirror_mode": {
    "name": "ipython",
    "version": 3
   },
   "file_extension": ".py",
   "mimetype": "text/x-python",
   "name": "python",
   "nbconvert_exporter": "python",
   "pygments_lexer": "ipython3",
   "version": "3.12.0"
  }
 },
 "nbformat": 4,
 "nbformat_minor": 2
}
