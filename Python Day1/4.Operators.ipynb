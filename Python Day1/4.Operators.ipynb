{
 "cells": [
  {
   "cell_type": "markdown",
   "metadata": {},
   "source": [
    "1. **Arithmetic Operators**:\n",
    "   - **Addition (+)**: Adds two numbers.\n",
    "   - **Subtraction (-)**: Subtracts the second number from the first.\n",
    "   - **Multiplication (*)**: Multiplies two numbers.\n",
    "   - **Division (/)**: Divides the first number by the second (returns a float).\n",
    "   - **Floor Division (//)**: Divides the first number by the second and rounds down to the nearest integer.\n",
    "   - **Modulus (%)**: Returns the remainder of the division.\n",
    "   - **Exponentiation (**)**: Raises the first number to the power of the second.\n"
   ]
  },
  {
   "cell_type": "code",
   "execution_count": 3,
   "metadata": {},
   "outputs": [
    {
     "name": "stdout",
     "output_type": "stream",
     "text": [
      "13\n",
      "7\n",
      "30\n",
      "3.3333333333333335\n",
      "3\n",
      "1\n",
      "1000\n"
     ]
    }
   ],
   "source": [
    "x = 10\n",
    "y = 3\n",
    "\n",
    "print(x + y)   # Output: 13\n",
    "print(x - y)   # Output: 7\n",
    "print(x * y)   # Output: 30\n",
    "print(x / y)   # Output: 3.3333333333333335\n",
    "print(x // y)  # Output: 3\n",
    "print(x % y)   # Output: 1\n",
    "print(x ** y)  # Output: 1000"
   ]
  },
  {
   "cell_type": "markdown",
   "metadata": {},
   "source": [
    "2. **Math Module**: Python's `math` module provides more advanced mathematical functions and constants."
   ]
  },
  {
   "cell_type": "code",
   "execution_count": 4,
   "metadata": {},
   "outputs": [
    {
     "name": "stdout",
     "output_type": "stream",
     "text": [
      "4.0\n",
      "1.0\n",
      "-1.0\n"
     ]
    }
   ],
   "source": [
    "import math\n",
    "\n",
    "print(math.sqrt(16))  # Output: 4.0 (square root)   \n",
    "print(math.sin(math.pi / 2))  # Output: 1.0 (sine)\n",
    "print(math.cos(math.pi))      # Output: -1.0 (cosine)\n"
   ]
  },
  {
   "cell_type": "markdown",
   "metadata": {},
   "source": [
    "\n",
    "  Rounding and Ceiling/Floor Functions:\n",
    "\n",
    "\t• math.ceil(x): Returns the smallest integer greater than or equal to x.\n",
    "\t \n",
    "\t• math.floor(x): Returns the largest integer less than or equal to x.\n",
    "    \n",
    " Built-in Functions:\n",
    "   - **`abs()`**: Returns the absolute value of a number.\n",
    "\n",
    "   - **`round()`**: Rounds a number to the nearest integer or to a specified number of decimal places.\n"
   ]
  },
  {
   "cell_type": "markdown",
   "metadata": {},
   "source": [
    "3. **Complex Numbers**: Python supports complex numbers and provides operations for working with them, such as addition, subtraction, multiplication, division, etc.\n"
   ]
  },
  {
   "cell_type": "code",
   "execution_count": 5,
   "metadata": {},
   "outputs": [
    {
     "name": "stdout",
     "output_type": "stream",
     "text": [
      "(3+2j)\n",
      "(5+1j)\n"
     ]
    }
   ],
   "source": [
    "z1 = 2 + 3j\n",
    "z2 = 1 - 1j\n",
    "   \n",
    "print(z1 + z2)   # Output: (3+2j)\n",
    "print(z1 * z2)   # Output: (5-1j)"
   ]
  },
  {
   "cell_type": "markdown",
   "metadata": {},
   "source": [
    "    -> Relational Operators in python\n",
    "Relational operators, also known as comparison operators, are used to compare values in Python. They return a boolean value (`True` or `False`) depending on whether the comparison is true or false. Relational operators are commonly used in conditional statements (`if`, `elif`, `else`) and loops to control the flow of the program based on the comparison result. Here are the relational operators in Python:\n",
    "\n",
    "1. **Equal to (`==`)**: Checks if two values are equal.\n",
    "   ```python\n",
    "   x == y\n",
    "   ```\n",
    "\n",
    "2. **Not equal to (`!=`)**: Checks if two values are not equal.\n",
    "   ```python\n",
    "   x != y\n",
    "   ```\n",
    "\n",
    "3. **Greater than (`>`)**: Checks if the left operand is greater than the right operand.\n",
    "   ```python\n",
    "   x > y\n",
    "   ```\n",
    "\n",
    "4. **Greater than or equal to (`>=`)**: Checks if the left operand is greater than or equal to the right operand.\n",
    "   ```python\n",
    "   x >= y\n",
    "   ```\n",
    "\n",
    "5. **Less than (`<`)**: Checks if the left operand is less than the right operand.\n",
    "   ```python\n",
    "   x < y\n",
    "   ```\n",
    "\n",
    "6. **Less than or equal to (`<=`)**: Checks if the left operand is less than or equal to the right operand.\n",
    "   ```python\n",
    "   x <= y\n",
    "   ```\n",
    "\n",
    "These operators can be used to compare numeric values, strings, variables, or any other data types that support comparison. The result of a comparison operation is always a boolean value (`True` or `False`). Here are some examples:\n",
    "\n"
   ]
  },
  {
   "cell_type": "code",
   "execution_count": 6,
   "metadata": {},
   "outputs": [
    {
     "name": "stdout",
     "output_type": "stream",
     "text": [
      "False\n",
      "True\n",
      "False\n",
      "True\n",
      "False\n",
      "True\n"
     ]
    }
   ],
   "source": [
    "x = 5\n",
    "y = 10\n",
    "\n",
    "print(x == y)   # Output: False\n",
    "print(x != y)   # Output: True\n",
    "print(x > y)    # Output: False\n",
    "print(x < y)    # Output: True\n",
    "print(x >= y)   # Output: False\n",
    "print(x <= y)   # Output: True"
   ]
  },
  {
   "cell_type": "markdown",
   "metadata": {},
   "source": [
    "    -> Logical operators in Python\n",
    "Logical operators in Python are used to combine or modify logical statements. They are often used in conditional statements to create compound conditions. Python provides three main logical operators: `and`, `or`, and `not`. "
   ]
  },
  {
   "cell_type": "code",
   "execution_count": 7,
   "metadata": {},
   "outputs": [
    {
     "name": "stdout",
     "output_type": "stream",
     "text": [
      "True\n",
      "False\n"
     ]
    }
   ],
   "source": [
    "#and: The `and` operator returns `True` if both operands are `True`, otherwise it returns `False`.\n",
    "x = 5\n",
    "y = 10\n",
    "z = 15\n",
    "\n",
    "print(x < y and y < z)  # Output: True\n",
    "print(x < y and y > z)  # Output: False\n"
   ]
  },
  {
   "cell_type": "code",
   "execution_count": 8,
   "metadata": {},
   "outputs": [
    {
     "name": "stdout",
     "output_type": "stream",
     "text": [
      "True\n",
      "False\n"
     ]
    }
   ],
   "source": [
    "#or: The `or` operator returns `True` if at least one of the operands is `True`, otherwise it returns `False`.\n",
    "   \n",
    "x = 5\n",
    "y = 10\n",
    "z = 15\n",
    "\n",
    "print(x < y or y > z)  # Output: True\n",
    "print(x > y or y > z)  # Output: False\n"
   ]
  },
  {
   "cell_type": "code",
   "execution_count": 9,
   "metadata": {},
   "outputs": [
    {
     "name": "stdout",
     "output_type": "stream",
     "text": [
      "False\n",
      "True\n"
     ]
    }
   ],
   "source": [
    "#not: The `not` operator returns the negation of the operand. If the operand is `True`, `not` returns `False`, and vice versa.\n",
    "   \n",
    "x = True\n",
    "y = False\n",
    "\n",
    "print(not x)  # Output: False\n",
    "print(not y)  # Output: True\n"
   ]
  },
  {
   "cell_type": "markdown",
   "metadata": {},
   "source": [
    "These logical operators can be used to combine multiple conditions in conditional statements (`if`, `elif`, `else`) and loops to control the flow of the program based on logical conditions. They are commonly used with relational operators to create complex conditions."
   ]
  },
  {
   "cell_type": "code",
   "execution_count": 10,
   "metadata": {},
   "outputs": [
    {
     "name": "stdout",
     "output_type": "stream",
     "text": [
      "Both conditions are True\n"
     ]
    },
    {
     "data": {
      "text/plain": [
       "'\\nIn this example, the `and` operator combines two relational conditions (`x < y` and `y < z`). \\nIf both conditions are `True`, the message \"Both conditions are True\" is printed; otherwise, \\n\"At least one condition is False\" is printed. '"
      ]
     },
     "execution_count": 10,
     "metadata": {},
     "output_type": "execute_result"
    }
   ],
   "source": [
    "x = 5\n",
    "y = 10\n",
    "z = 15\n",
    "\n",
    "if x < y and y < z:\n",
    "    print(\"Both conditions are True\")\n",
    "else:\n",
    "    print(\"At least one condition is False\")\n",
    "'''\n",
    "In this example, the `and` operator combines two relational conditions (`x < y` and `y < z`). \n",
    "If both conditions are `True`, the message \"Both conditions are True\" is printed; otherwise, \n",
    "\"At least one condition is False\" is printed. '''\n"
   ]
  },
  {
   "cell_type": "code",
   "execution_count": null,
   "metadata": {},
   "outputs": [],
   "source": []
  }
 ],
 "metadata": {
  "kernelspec": {
   "display_name": "Python 3",
   "language": "python",
   "name": "python3"
  },
  "language_info": {
   "codemirror_mode": {
    "name": "ipython",
    "version": 3
   },
   "file_extension": ".py",
   "mimetype": "text/x-python",
   "name": "python",
   "nbconvert_exporter": "python",
   "pygments_lexer": "ipython3",
   "version": "3.12.0"
  }
 },
 "nbformat": 4,
 "nbformat_minor": 2
}
