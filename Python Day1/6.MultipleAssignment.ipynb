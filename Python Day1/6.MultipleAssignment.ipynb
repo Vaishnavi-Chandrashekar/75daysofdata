{
 "cells": [
  {
   "cell_type": "markdown",
   "metadata": {},
   "source": [
    "In Python, you can assign multiple variables in a single line using multiple assignment or unpacking. This feature allows you to assign values to multiple variables simultaneously. Here's how it works:\n"
   ]
  },
  {
   "cell_type": "code",
   "execution_count": 1,
   "metadata": {},
   "outputs": [
    {
     "name": "stdout",
     "output_type": "stream",
     "text": [
      "1\n",
      "2\n",
      "3\n"
     ]
    }
   ],
   "source": [
    "x, y, z = 1, 2, 3\n",
    "\n",
    "print(x)  # Output: 1\n",
    "print(y)  # Output: 2\n",
    "print(z)  # Output: 3\n"
   ]
  },
  {
   "cell_type": "markdown",
   "metadata": {},
   "source": [
    "We can also use multiple assignment to swap values between variables without needing a temporary variable:\n"
   ]
  },
  {
   "cell_type": "code",
   "execution_count": 2,
   "metadata": {},
   "outputs": [
    {
     "name": "stdout",
     "output_type": "stream",
     "text": [
      "x = 20\n",
      "y = 10\n"
     ]
    }
   ],
   "source": [
    "# Swapping values between variables\n",
    "x = 10\n",
    "y = 20\n",
    "\n",
    "x, y = y, x\n",
    "\n",
    "print(\"x =\", x)  # Output: 20\n",
    "print(\"y =\", y)  # Output: 10\n"
   ]
  },
  {
   "cell_type": "code",
   "execution_count": 3,
   "metadata": {},
   "outputs": [
    {
     "name": "stdout",
     "output_type": "stream",
     "text": [
      "apple\n",
      "banana\n",
      "orange\n"
     ]
    }
   ],
   "source": [
    "#Multiple assignment can be used with any iterable, such as lists or tuples:\n",
    "# Using multiple assignment with a list\n",
    "fruits = [\"apple\", \"banana\", \"orange\"]\n",
    "a, b, c = fruits\n",
    "\n",
    "print(a)  # Output: 'apple'\n",
    "print(b)  # Output: 'banana'\n",
    "print(c)  # Output: 'orange'\n"
   ]
  },
  {
   "cell_type": "code",
   "execution_count": 6,
   "metadata": {},
   "outputs": [
    {
     "ename": "ValueError",
     "evalue": "too many values to unpack (expected 2)",
     "output_type": "error",
     "traceback": [
      "\u001b[1;31m---------------------------------------------------------------------------\u001b[0m",
      "\u001b[1;31mValueError\u001b[0m                                Traceback (most recent call last)",
      "Cell \u001b[1;32mIn[6], line 4\u001b[0m\n\u001b[0;32m      1\u001b[0m \u001b[38;5;66;03m#If the number of variables does not match the number of values in the iterable, you'll get a `ValueError`:\u001b[39;00m\n\u001b[0;32m      2\u001b[0m \n\u001b[0;32m      3\u001b[0m \u001b[38;5;66;03m# ValueError: too many values to unpack (expected 2)\u001b[39;00m\n\u001b[1;32m----> 4\u001b[0m x, y \u001b[38;5;241m=\u001b[39m \u001b[38;5;241m1\u001b[39m, \u001b[38;5;241m2\u001b[39m, \u001b[38;5;241m3\u001b[39m\n",
      "\u001b[1;31mValueError\u001b[0m: too many values to unpack (expected 2)"
     ]
    }
   ],
   "source": [
    "#If the number of variables does not match the number of values in the iterable, you'll get a `ValueError`:\n",
    "\n",
    "# ValueError: too many values to unpack (expected 2)\n",
    "x, y = 1, 2, 3\n"
   ]
  },
  {
   "cell_type": "markdown",
   "metadata": {},
   "source": [
    "Multiple assignment is a convenient and concise way to work with multiple variables in Python.\n"
   ]
  }
 ],
 "metadata": {
  "kernelspec": {
   "display_name": "Python 3",
   "language": "python",
   "name": "python3"
  },
  "language_info": {
   "codemirror_mode": {
    "name": "ipython",
    "version": 3
   },
   "file_extension": ".py",
   "mimetype": "text/x-python",
   "name": "python",
   "nbconvert_exporter": "python",
   "pygments_lexer": "ipython3",
   "version": "3.12.0"
  }
 },
 "nbformat": 4,
 "nbformat_minor": 2
}
