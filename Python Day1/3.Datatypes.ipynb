{
 "cells": [
  {
   "cell_type": "markdown",
   "metadata": {},
   "source": [
    "\n",
    "    -> Data types in python\n",
    "In Python, data types represent the type of data that can be stored and manipulated in variables. Python supports various built-in data types, which can be categorized into the following major categories:\n",
    "\n",
    "1. **Numeric Types**:\n",
    "   - **int**: Integer values, e.g., `5`, `-10`, `1000`.\n",
    "   - **float**: Floating-point numbers (decimal numbers), e.g., `3.14`, `-0.001`, `2.5e-3`.\n",
    "   - **complex**: Complex numbers with a real and imaginary part, e.g., `3 + 2j`, `-1 - 0.5j`.\n",
    "\n",
    "2. **Sequence Types**:\n",
    "   - **str**: Strings, sequences of characters enclosed in single, double, or triple quotes, e.g., `'hello'`, `\"world\"`, `\"\"\"multi-line string\"\"\"`.\n",
    "   - **list**: Ordered collections of items, mutable (modifiable), e.g., `[1, 2, 3]`, `['a', 'b', 'c']`.\n",
    "   - **tuple**: Ordered collections of items, immutable (cannot be modified after creation), e.g., `(1, 2, 3)`, `('a', 'b', 'c')`.\n",
    "\n",
    "3. **Boolean Type**:\n",
    "   - **bool**: Boolean values representing truth or falsehood, either `True` or `False`.\n",
    "\n",
    "4. **Mapping Type**:\n",
    "   - **dict**: Unordered collections of key-value pairs, e.g., `{'name': 'John', 'age': 30}`.\n",
    "\n",
    "5. **Set Types**:\n",
    "   - **set**: Unordered collections of unique items, mutable, e.g., `{1, 2, 3}`, `{'a', 'b', 'c'}`.\n",
    "   - **frozenset**: Similar to sets, but immutable, e.g., `frozenset([1, 2, 3])`.\n",
    "\n",
    "6. **None Type**:\n",
    "   - **NoneType**: Represents the absence of a value or a null value, denoted by the keyword `None`.\n",
    "\n",
    "These are the fundamental data types in Python, each serving different purposes and having its own set of operations and methods. Additionally, Python allows for user-defined data types through classes and objects, providing flexibility in creating custom data structures and abstractions.\n"
   ]
  }
 ],
 "metadata": {
  "language_info": {
   "name": "python"
  }
 },
 "nbformat": 4,
 "nbformat_minor": 2
}
