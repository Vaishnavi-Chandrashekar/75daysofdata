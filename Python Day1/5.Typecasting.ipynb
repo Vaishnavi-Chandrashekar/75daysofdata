{
 "cells": [
  {
   "cell_type": "markdown",
   "metadata": {},
   "source": [
    "    Ø Type casting python\n",
    "Type casting, also known as type conversion, is the process of converting one data type into another in Python. Python provides several built-in functions for type casting, allowing you to convert variables from one type to another.  Type casting is useful when you need to convert data from one type to another to perform specific operations or to ensure compatibility between different parts of your code.Here are some commonly used type casting functions:\n",
    "\n",
    "1. **`int()`**: Converts a value to an integer data type.\n",
    "   \n",
    "   x = \"5\"\n",
    "   y = int(x)   # y will be an integer with value 5\n",
    "   \n",
    "\n",
    "2. **`float()`**: Converts a value to a floating-point (decimal) data type.\n",
    "   \n",
    "   x = \"3.14\"\n",
    "   y = float(x)   # y will be a float with value 3.14\n",
    "   \n",
    "\n",
    "3. **`str()`**: Converts a value to a string data type.\n",
    "   \n",
    "   x = 5\n",
    "   y = str(x)   # y will be a string with value '5'\n",
    "   \n",
    "\n",
    "4. **`bool()`**: Converts a value to a boolean data type.\n",
    "   \n",
    "   x = 0\n",
    "   y = bool(x)   # y will be False\n",
    "   \n",
    "\n",
    "5. **`list()`, `tuple()`, `set()`, `dict()`**: Converts an iterable (such as a list, tuple, set, or dictionary) to the corresponding data type.\n",
    "   \n",
    "   x = (1, 2, 3)\n",
    "   y = list(x)   # y will be a list [1, 2, 3]\n",
    "   \n",
    "\n",
    "6. **`ord()` and `chr()`**: Converts a character to its Unicode code point and vice versa.\n",
    "   \n",
    "   x = 'A'\n",
    "   y = ord(x)   # y will be the Unicode code point of 'A', which is 65\n",
    "   \n",
    "\n",
    "   \n",
    "   x = 65\n",
    "   y = chr(x)   # y will be the character corresponding to the Unicode code point 65, which is 'A'\n",
    "   \n"
   ]
  },
  {
   "cell_type": "markdown",
   "metadata": {},
   "source": []
  },
  {
   "cell_type": "code",
   "execution_count": 1,
   "metadata": {},
   "outputs": [
    {
     "name": "stdout",
     "output_type": "stream",
     "text": [
      "5\n"
     ]
    }
   ],
   "source": [
    "x = \"5\"\n",
    "y = int(x)   # y will be an integer with value 5\n",
    "print(y)"
   ]
  },
  {
   "cell_type": "code",
   "execution_count": 2,
   "metadata": {},
   "outputs": [
    {
     "data": {
      "text/plain": [
       "3.14"
      ]
     },
     "execution_count": 2,
     "metadata": {},
     "output_type": "execute_result"
    }
   ],
   "source": [
    "x = \"3.14\"\n",
    "y = float(x)   # y will be a float with value 3.14\n",
    "y"
   ]
  },
  {
   "cell_type": "code",
   "execution_count": 3,
   "metadata": {},
   "outputs": [
    {
     "data": {
      "text/plain": [
       "'5'"
      ]
     },
     "execution_count": 3,
     "metadata": {},
     "output_type": "execute_result"
    }
   ],
   "source": [
    "x = 5\n",
    "y = str(x)   # y will be a string with value '5'\n",
    "y"
   ]
  },
  {
   "cell_type": "code",
   "execution_count": 4,
   "metadata": {},
   "outputs": [
    {
     "data": {
      "text/plain": [
       "False"
      ]
     },
     "execution_count": 4,
     "metadata": {},
     "output_type": "execute_result"
    }
   ],
   "source": [
    "x = 0\n",
    "y = bool(x)   # y will be False\n",
    "y   "
   ]
  },
  {
   "cell_type": "code",
   "execution_count": 5,
   "metadata": {},
   "outputs": [
    {
     "data": {
      "text/plain": [
       "[1, 2, 3]"
      ]
     },
     "execution_count": 5,
     "metadata": {},
     "output_type": "execute_result"
    }
   ],
   "source": [
    "x = (1, 2, 3) #x is tuple\n",
    "y = list(x)   # y will be a list [1, 2, 3]\n",
    "y"
   ]
  },
  {
   "cell_type": "code",
   "execution_count": 7,
   "metadata": {},
   "outputs": [
    {
     "data": {
      "text/plain": [
       "65"
      ]
     },
     "execution_count": 7,
     "metadata": {},
     "output_type": "execute_result"
    }
   ],
   "source": [
    "x = 'A'\n",
    "y = ord(x)   # y will be the Unicode code point of 'A', which is 65\n",
    "y"
   ]
  },
  {
   "cell_type": "code",
   "execution_count": 10,
   "metadata": {},
   "outputs": [
    {
     "data": {
      "text/plain": [
       "'A'"
      ]
     },
     "execution_count": 10,
     "metadata": {},
     "output_type": "execute_result"
    }
   ],
   "source": [
    "x = 65\n",
    "y = chr(x)   # y will be the character corresponding to the Unicode code point 65, which is 'A'\n",
    "y"
   ]
  }
 ],
 "metadata": {
  "kernelspec": {
   "display_name": "Python 3",
   "language": "python",
   "name": "python3"
  },
  "language_info": {
   "codemirror_mode": {
    "name": "ipython",
    "version": 3
   },
   "file_extension": ".py",
   "mimetype": "text/x-python",
   "name": "python",
   "nbconvert_exporter": "python",
   "pygments_lexer": "ipython3",
   "version": "3.12.0"
  }
 },
 "nbformat": 4,
 "nbformat_minor": 2
}
