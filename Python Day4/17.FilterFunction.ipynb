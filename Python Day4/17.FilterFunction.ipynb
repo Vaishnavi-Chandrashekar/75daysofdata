{
 "cells": [
  {
   "cell_type": "markdown",
   "metadata": {},
   "source": [
    "The 'filter()' function in Python is used to construct an iterator from elements of an iterable for which a function returns True. It filters out the elements that do not meet the condition specified by the function.\n",
    "\n",
    "Syntax of filter()\n",
    "\n",
    "filter(function, iterable)\n",
    "\n",
    "* function: A function that tests if each element of the iterable returns True or False.\n",
    "* iterable: The iterable to be filtered (e.g., list, tuple, set).\n",
    "\n",
    "\n",
    "If function is None, it returns the items that are True."
   ]
  },
  {
   "cell_type": "markdown",
   "metadata": {},
   "source": [
    "### Example Usage of filter()\n"
   ]
  },
  {
   "cell_type": "code",
   "execution_count": 4,
   "metadata": {},
   "outputs": [
    {
     "name": "stdout",
     "output_type": "stream",
     "text": [
      "[2, 4, 6]\n"
     ]
    }
   ],
   "source": [
    "#example using filter() to keep only the even numbers from a list:\n",
    "\n",
    "def is_even(n):\n",
    "    return n % 2 == 0\n",
    "\n",
    "numbers = [1, 2, 3, 4, 5, 6]\n",
    "even_numbers = filter(is_even, numbers)\n",
    "\n",
    "print(list(even_numbers))  # Output: [2, 4, 6]"
   ]
  },
  {
   "cell_type": "markdown",
   "metadata": {},
   "source": [
    "### Using filter() with a Lambda Function\n",
    "Lambda functions are often used with filter() for short, simple conditions:"
   ]
  },
  {
   "cell_type": "code",
   "execution_count": 5,
   "metadata": {},
   "outputs": [
    {
     "name": "stdout",
     "output_type": "stream",
     "text": [
      "[2, 4, 6]\n"
     ]
    }
   ],
   "source": [
    "numbers = [1, 2, 3, 4, 5, 6]\n",
    "even_numbers = filter(lambda x: x % 2 == 0, numbers)\n",
    "\n",
    "print(list(even_numbers))  # Output: [2, 4, 6]"
   ]
  },
  {
   "cell_type": "markdown",
   "metadata": {},
   "source": [
    "### Conversion to List, Tuple, etc.\n",
    "Since filter() returns a filter object, which is an iterator, it is often converted to a list, tuple, or other sequence type for easier use:"
   ]
  },
  {
   "cell_type": "code",
   "execution_count": 6,
   "metadata": {},
   "outputs": [
    {
     "name": "stdout",
     "output_type": "stream",
     "text": [
      "[2, 4, 6]\n",
      "()\n"
     ]
    }
   ],
   "source": [
    "numbers = [1, 2, 3, 4, 5, 6]\n",
    "even_numbers = filter(lambda x: x % 2 == 0, numbers)\n",
    "\n",
    "# Convert to list\n",
    "even_list = list(even_numbers)\n",
    "print(even_list)  # Output: [2, 4, 6]\n",
    "\n",
    "# Convert to tuple\n",
    "even_tuple = tuple(even_numbers)\n",
    "print(even_tuple)  # Output: (2, 4, 6)"
   ]
  },
  {
   "cell_type": "markdown",
   "metadata": {},
   "source": [
    "### Practical Examples\n",
    "Filtering Out Empty Strings\n",
    "If you have a list of strings and want to filter out the empty ones:"
   ]
  },
  {
   "cell_type": "code",
   "execution_count": 7,
   "metadata": {},
   "outputs": [
    {
     "name": "stdout",
     "output_type": "stream",
     "text": [
      "['hello', 'world', 'python', 'filter']\n"
     ]
    }
   ],
   "source": [
    "strings = ['hello', '', 'world', 'python', '', 'filter']\n",
    "non_empty_strings = filter(lambda s: s != '', strings)\n",
    "\n",
    "print(list(non_empty_strings))  # Output: ['hello', 'world', 'python', 'filter']"
   ]
  },
  {
   "cell_type": "markdown",
   "metadata": {},
   "source": [
    "### Filtering with Multiple Conditions\n",
    "You can filter items based on multiple conditions. For example, filtering out numbers that are both even and greater than 10:"
   ]
  },
  {
   "cell_type": "code",
   "execution_count": 8,
   "metadata": {},
   "outputs": [
    {
     "name": "stdout",
     "output_type": "stream",
     "text": [
      "[12, 22, 30]\n"
     ]
    }
   ],
   "source": [
    "numbers = [5, 8, 12, 15, 22, 25, 30]\n",
    "filtered_numbers = filter(lambda x: x % 2 == 0 and x > 10, numbers)\n",
    "\n",
    "print(list(filtered_numbers))  # Output: [12, 22, 30]"
   ]
  },
  {
   "cell_type": "markdown",
   "metadata": {},
   "source": [
    "### Filtering Objects\n",
    "If you have a list of objects (e.g., dictionaries) and want to filter them based on a condition:"
   ]
  },
  {
   "cell_type": "code",
   "execution_count": 9,
   "metadata": {},
   "outputs": [
    {
     "name": "stdout",
     "output_type": "stream",
     "text": [
      "[{'name': 'Alice', 'age': 28}, {'name': 'Charlie', 'age': 25}]\n"
     ]
    }
   ],
   "source": [
    "people = [\n",
    "    {'name': 'Alice', 'age': 28},\n",
    "    {'name': 'Bob', 'age': 21},\n",
    "    {'name': 'Charlie', 'age': 25}\n",
    "]\n",
    "\n",
    "adults = filter(lambda person: person['age'] >= 25, people)\n",
    "\n",
    "print(list(adults))  \n",
    "# Output: [{'name': 'Alice', 'age': 28}, {'name': 'Charlie', 'age': 25}]"
   ]
  },
  {
   "cell_type": "markdown",
   "metadata": {},
   "source": [
    "### Summary\n",
    "The filter() function is a powerful tool for selecting elements from an iterable that meet a specific condition. It is useful for data cleaning, preprocessing, and any scenario where you need to filter elements based on a certain criterion. By using filter(), you can write cleaner and more efficient code for these types of operations."
   ]
  }
 ],
 "metadata": {
  "kernelspec": {
   "display_name": "Python 3",
   "language": "python",
   "name": "python3"
  },
  "language_info": {
   "codemirror_mode": {
    "name": "ipython",
    "version": 3
   },
   "file_extension": ".py",
   "mimetype": "text/x-python",
   "name": "python",
   "nbconvert_exporter": "python",
   "pygments_lexer": "ipython3",
   "version": "3.12.0"
  }
 },
 "nbformat": 4,
 "nbformat_minor": 2
}
