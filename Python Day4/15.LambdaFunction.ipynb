{
 "cells": [
  {
   "cell_type": "markdown",
   "metadata": {},
   "source": [
    "`Lambda functions` in Python, also known as anonymous functions, are small, unnamed functions defined using the lambda keyword. They can have any number of parameters but only one expression. Lambda functions are often used for short, simple operations, typically where a full function would be overkill.\n",
    "\n",
    "Syntax of a Lambda Function\n",
    "\n",
    "The basic syntax for a lambda function is:\n",
    "`lambda arguments: expression`\n",
    "\n",
    "* lambda: This keyword is used to define a lambda function.\n",
    "\n",
    "* arguments: A comma-separated list of arguments (parameters) for the function.\n",
    "\n",
    "* expression: A single expression that is evaluated and returned. Note that this must be a single expression, not a block of statements."
   ]
  },
  {
   "cell_type": "code",
   "execution_count": 1,
   "metadata": {},
   "outputs": [
    {
     "name": "stdout",
     "output_type": "stream",
     "text": [
      "5\n"
     ]
    }
   ],
   "source": [
    "#example of a lambda function that adds two numbers:\n",
    "\n",
    "# Define a lambda function to add two numbers\n",
    "add = lambda x, y: x + y\n",
    "\n",
    "# Call the lambda function\n",
    "print(add(2, 3))  # Output: 5"
   ]
  },
  {
   "cell_type": "markdown",
   "metadata": {},
   "source": [
    "### Use Cases of Lambda Functions\n",
    "Lambda functions are particularly useful in contexts where you need a simple function for a short period, such as in functional programming paradigms, or when passing functions as arguments."
   ]
  },
  {
   "cell_type": "markdown",
   "metadata": {},
   "source": [
    "### 1. Using Lambda with map()\n",
    "The map() function applies a given function to all items in an input list (or any iterable) and returns a map object (which can be converted into a list)."
   ]
  },
  {
   "cell_type": "code",
   "execution_count": 2,
   "metadata": {},
   "outputs": [
    {
     "name": "stdout",
     "output_type": "stream",
     "text": [
      "[1, 4, 9, 16, 25]\n"
     ]
    }
   ],
   "source": [
    "numbers = [1, 2, 3, 4, 5]\n",
    "squared = map(lambda x: x ** 2, numbers)\n",
    "print(list(squared))  # Output: [1, 4, 9, 16, 25]\n"
   ]
  },
  {
   "cell_type": "markdown",
   "metadata": {},
   "source": [
    "### 2. Using Lambda with filter()\n",
    "The filter() function constructs an iterator from elements of an iterable for which a function returns true."
   ]
  },
  {
   "cell_type": "code",
   "execution_count": 3,
   "metadata": {},
   "outputs": [
    {
     "name": "stdout",
     "output_type": "stream",
     "text": [
      "[2, 4, 6]\n"
     ]
    }
   ],
   "source": [
    "numbers = [1, 2, 3, 4, 5, 6]\n",
    "even_numbers = filter(lambda x: x % 2 == 0, numbers)\n",
    "print(list(even_numbers))  # Output: [2, 4, 6]"
   ]
  },
  {
   "cell_type": "markdown",
   "metadata": {},
   "source": [
    "### 3. Using Lambda with sorted()\n",
    "The sorted() function returns a new sorted list from the elements of any iterable. The key parameter can be a function that extracts a comparison key from each element."
   ]
  },
  {
   "cell_type": "code",
   "execution_count": 4,
   "metadata": {},
   "outputs": [
    {
     "name": "stdout",
     "output_type": "stream",
     "text": [
      "[(5, -1), (4, 1), (1, 2), (2, 3)]\n"
     ]
    }
   ],
   "source": [
    "points = [(1, 2), (4, 1), (5, -1), (2, 3)]\n",
    "sorted_points = sorted(points, key=lambda point: point[1])\n",
    "print(sorted_points)  # Output: [(5, -1), (4, 1), (1, 2), (2, 3)]"
   ]
  },
  {
   "cell_type": "markdown",
   "metadata": {},
   "source": [
    "### 4. Using Lambda in reduce()\n",
    "The reduce() function from the functools module applies a rolling computation to sequential pairs of values in a list."
   ]
  },
  {
   "cell_type": "code",
   "execution_count": 5,
   "metadata": {},
   "outputs": [
    {
     "name": "stdout",
     "output_type": "stream",
     "text": [
      "120\n"
     ]
    }
   ],
   "source": [
    "from functools import reduce\n",
    "\n",
    "numbers = [1, 2, 3, 4, 5]\n",
    "product = reduce(lambda x, y: x * y, numbers)\n",
    "print(product)  # Output: 120"
   ]
  },
  {
   "cell_type": "markdown",
   "metadata": {},
   "source": [
    "### Comparison with Regular Functions\n",
    "While lambda functions are concise, they are limited to a single expression and do not support multiple statements or annotations. Regular functions, defined with the def keyword, are more versatile and generally preferred for more complex operations."
   ]
  },
  {
   "cell_type": "code",
   "execution_count": 7,
   "metadata": {},
   "outputs": [
    {
     "name": "stdout",
     "output_type": "stream",
     "text": [
      "5\n",
      "5\n"
     ]
    }
   ],
   "source": [
    "#Regular Function Example:\n",
    "\n",
    "def add(x, y):\n",
    "    return x + y\n",
    "\n",
    "print(add(2, 3))  # Output: 5\n",
    "\n",
    "#Lambda Function Example:\n",
    "add = lambda x, y: x + y\n",
    "print(add(2, 3))  # Output: 5"
   ]
  },
  {
   "cell_type": "markdown",
   "metadata": {},
   "source": [
    "### Summary\n",
    "`Lambda functions` in Python are a compact way to write simple functions for short-term use. They are especially useful when working with functions like map(), filter(), sorted(), and reduce(). However, for more complex tasks, regular function definitions using def are recommended."
   ]
  }
 ],
 "metadata": {
  "kernelspec": {
   "display_name": "Python 3",
   "language": "python",
   "name": "python3"
  },
  "language_info": {
   "codemirror_mode": {
    "name": "ipython",
    "version": 3
   },
   "file_extension": ".py",
   "mimetype": "text/x-python",
   "name": "python",
   "nbconvert_exporter": "python",
   "pygments_lexer": "ipython3",
   "version": "3.12.0"
  }
 },
 "nbformat": 4,
 "nbformat_minor": 2
}
