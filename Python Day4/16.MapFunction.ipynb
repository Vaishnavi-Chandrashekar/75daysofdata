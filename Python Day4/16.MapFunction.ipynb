{
 "cells": [
  {
   "cell_type": "markdown",
   "metadata": {},
   "source": [
    "The `map()` function in Python is a built-in function that applies a specified function to each item of an iterable (like a list, tuple, etc.) and returns a map object, which can then be converted into other sequences like lists or tuples. This function is particularly useful for transforming data by applying the same operation to each element in a collection.\n",
    "\n",
    "Syntax of map()\n",
    "\n",
    "`map(function, iterable, ...)`\n",
    "\n",
    "* function: The function to apply to each element of the iterable(s).\n",
    "* iterable: One or more iterable sequences.\n",
    "\n",
    "If more than one iterable is passed, the function must take that many arguments and is applied to the items from all iterables in parallel."
   ]
  },
  {
   "cell_type": "code",
   "execution_count": 1,
   "metadata": {},
   "outputs": [
    {
     "name": "stdout",
     "output_type": "stream",
     "text": [
      "[1, 4, 9, 16, 25]\n"
     ]
    }
   ],
   "source": [
    "#example of using map() to square each number in a list:\n",
    "\n",
    "def square(x):\n",
    "    return x ** 2\n",
    "\n",
    "numbers = [1, 2, 3, 4, 5]\n",
    "squared_numbers = map(square, numbers)\n",
    "\n",
    "print(list(squared_numbers))  # Output: [1, 4, 9, 16, 25]"
   ]
  },
  {
   "cell_type": "markdown",
   "metadata": {},
   "source": [
    "### Using map() with a Lambda Function\n",
    "Lambda functions are often used with map() for short, simple operations:"
   ]
  },
  {
   "cell_type": "code",
   "execution_count": 2,
   "metadata": {},
   "outputs": [
    {
     "name": "stdout",
     "output_type": "stream",
     "text": [
      "[1, 4, 9, 16, 25]\n"
     ]
    }
   ],
   "source": [
    "numbers = [1, 2, 3, 4, 5]\n",
    "squared_numbers = map(lambda x: x ** 2, numbers)\n",
    "\n",
    "print(list(squared_numbers))  # Output: [1, 4, 9, 16, 25]"
   ]
  },
  {
   "cell_type": "markdown",
   "metadata": {},
   "source": [
    "### Using map() with Multiple Iterables\n",
    "When you have more than one iterable, the function should take that many arguments. Here’s an example where we add corresponding elements from two lists:"
   ]
  },
  {
   "cell_type": "code",
   "execution_count": 3,
   "metadata": {},
   "outputs": [
    {
     "name": "stdout",
     "output_type": "stream",
     "text": [
      "[5, 7, 9]\n"
     ]
    }
   ],
   "source": [
    "numbers1 = [1, 2, 3]\n",
    "numbers2 = [4, 5, 6]\n",
    "summed_numbers = map(lambda x, y: x + y, numbers1, numbers2)\n",
    "\n",
    "print(list(summed_numbers))  # Output: [5, 7, 9]"
   ]
  },
  {
   "cell_type": "markdown",
   "metadata": {},
   "source": [
    "### Conversion to List, Tuple, etc.\n",
    "Since map() returns a map object, which is an iterator, it is often converted to a list, tuple, or other sequence type for easier use:"
   ]
  },
  {
   "cell_type": "code",
   "execution_count": 5,
   "metadata": {},
   "outputs": [
    {
     "name": "stdout",
     "output_type": "stream",
     "text": [
      "[1, 4, 9, 16, 25]\n",
      "(1, 4, 9, 16, 25)\n"
     ]
    }
   ],
   "source": [
    "numbers = [1, 2, 3, 4, 5]\n",
    "squared_numbers = map(lambda x: x ** 2, numbers)\n",
    "\n",
    "# Convert to list\n",
    "squared_list = list(squared_numbers)\n",
    "print(squared_list)  # Output: [1, 4, 9, 16, 25]\n",
    "\n",
    "# Convert to tuple\n",
    "squared_numbers = map(lambda x: x ** 2, numbers)\n",
    "squared_tuple = tuple(squared_numbers)\n",
    "print(squared_tuple)  # Output: (1, 4, 9, 16, 25)\n"
   ]
  },
  {
   "cell_type": "markdown",
   "metadata": {},
   "source": [
    "### Practical Examples\n",
    "Converting Strings to Integers"
   ]
  },
  {
   "cell_type": "code",
   "execution_count": 6,
   "metadata": {},
   "outputs": [
    {
     "name": "stdout",
     "output_type": "stream",
     "text": [
      "[1, 2, 3, 4]\n"
     ]
    }
   ],
   "source": [
    "str_numbers = ['1', '2', '3', '4']\n",
    "int_numbers = map(int, str_numbers)\n",
    "\n",
    "print(list(int_numbers))  # Output: [1, 2, 3, 4]"
   ]
  },
  {
   "cell_type": "markdown",
   "metadata": {},
   "source": [
    "### Applying a Method to Each Element\n",
    "If you have a list of strings and want to capitalize each one:"
   ]
  },
  {
   "cell_type": "code",
   "execution_count": 7,
   "metadata": {},
   "outputs": [
    {
     "name": "stdout",
     "output_type": "stream",
     "text": [
      "['Hello', 'World', 'Python']\n"
     ]
    }
   ],
   "source": [
    "words = ['hello', 'world', 'python']\n",
    "capitalized_words = map(str.capitalize, words)\n",
    "\n",
    "print(list(capitalized_words))  # Output: ['Hello', 'World', 'Python']"
   ]
  },
  {
   "cell_type": "markdown",
   "metadata": {},
   "source": [
    "### Summary\n",
    "The map() function is a powerful tool for applying a transformation function to each item in an iterable. It is especially useful for tasks like data transformation, cleaning, and applying uniform operations across collections of data. By using map(), you can write cleaner, more efficient, and more readable code for these types of operations."
   ]
  }
 ],
 "metadata": {
  "kernelspec": {
   "display_name": "Python 3",
   "language": "python",
   "name": "python3"
  },
  "language_info": {
   "codemirror_mode": {
    "name": "ipython",
    "version": 3
   },
   "file_extension": ".py",
   "mimetype": "text/x-python",
   "name": "python",
   "nbconvert_exporter": "python",
   "pygments_lexer": "ipython3",
   "version": "3.12.0"
  }
 },
 "nbformat": 4,
 "nbformat_minor": 2
}
