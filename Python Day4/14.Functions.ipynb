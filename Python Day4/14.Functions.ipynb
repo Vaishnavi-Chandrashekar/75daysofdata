{
 "cells": [
  {
   "cell_type": "markdown",
   "metadata": {},
   "source": [
    "`Functions` in Python are fundamental building blocks that help organize code into reusable pieces. They allow you to define a block of code that performs a specific task and then call that block whenever you need to execute the task."
   ]
  },
  {
   "cell_type": "markdown",
   "metadata": {},
   "source": [
    "### 1. Defining a Function\n",
    "To define a function in Python, you use the def keyword followed by the function name and parentheses () which may contain parameters. The function definition ends with a colon : and the body of the function is indented.\n",
    "\n"
   ]
  },
  {
   "cell_type": "code",
   "execution_count": 1,
   "metadata": {},
   "outputs": [],
   "source": [
    "def function_name(parameters):\n",
    "    # function body\n",
    "    statement(s)"
   ]
  },
  {
   "cell_type": "markdown",
   "metadata": {},
   "source": [
    "### 2. Calling a Function\n",
    "To call a function, you simply use its name followed by parentheses. If the function requires parameters, you provide them within the parentheses."
   ]
  },
  {
   "cell_type": "code",
   "execution_count": 3,
   "metadata": {},
   "outputs": [],
   "source": [
    "# function_name(arguments)"
   ]
  },
  {
   "cell_type": "markdown",
   "metadata": {},
   "source": [
    "### 3. Example of a Simple Function\n"
   ]
  },
  {
   "cell_type": "code",
   "execution_count": 4,
   "metadata": {},
   "outputs": [
    {
     "name": "stdout",
     "output_type": "stream",
     "text": [
      "7\n"
     ]
    }
   ],
   "source": [
    "#Here's an example of a simple function that takes two numbers as parameters and returns their sum:\n",
    "\n",
    "def add(a, b):\n",
    "    return a + b\n",
    "\n",
    "# Calling the function\n",
    "result = add(3, 4)\n",
    "print(result)  # Output: 7"
   ]
  },
  {
   "cell_type": "markdown",
   "metadata": {},
   "source": [
    "### 4. Default Parameters\n",
    "You can provide default values for parameters. If the function is called without those parameters, the default values are used."
   ]
  },
  {
   "cell_type": "code",
   "execution_count": 5,
   "metadata": {},
   "outputs": [
    {
     "name": "stdout",
     "output_type": "stream",
     "text": [
      "Hi, Alice!\n",
      "Hello, Bob!\n"
     ]
    }
   ],
   "source": [
    "def greet(name, message=\"Hello\"):\n",
    "    return f\"{message}, {name}!\"\n",
    "\n",
    "# Calling with both parameters\n",
    "print(greet(\"Alice\", \"Hi\"))  # Output: Hi, Alice!\n",
    "\n",
    "# Calling with only the name parameter\n",
    "print(greet(\"Bob\"))  # Output: Hello, Bob!\n"
   ]
  },
  {
   "cell_type": "markdown",
   "metadata": {},
   "source": [
    "### 5. Keyword Arguments\n",
    "Functions can also be called using keyword arguments, where you explicitly name the parameters."
   ]
  },
  {
   "cell_type": "code",
   "execution_count": 6,
   "metadata": {},
   "outputs": [
    {
     "name": "stdout",
     "output_type": "stream",
     "text": [
      "I have a dog named Rex.\n"
     ]
    }
   ],
   "source": [
    "def describe_pet(animal_type, pet_name):\n",
    "    return f\"I have a {animal_type} named {pet_name}.\"\n",
    "\n",
    "# Using keyword arguments\n",
    "print(describe_pet(animal_type=\"dog\", pet_name=\"Rex\"))  # Output: I have a dog named Rex.\n"
   ]
  },
  {
   "cell_type": "markdown",
   "metadata": {},
   "source": [
    "### 6. Variable-length Arguments\n",
    "Python allows you to handle functions with an arbitrary number of arguments using *args for non-keyword arguments and **kwargs for keyword arguments."
   ]
  },
  {
   "cell_type": "code",
   "execution_count": 8,
   "metadata": {},
   "outputs": [
    {
     "name": "stdout",
     "output_type": "stream",
     "text": [
      "Making a 12-inch pizza with the following toppings:\n",
      "- pepperoni\n",
      "- mushrooms\n",
      "- green peppers\n"
     ]
    }
   ],
   "source": [
    "def make_pizza(size, *toppings):\n",
    "    print(f\"Making a {size}-inch pizza with the following toppings:\")\n",
    "    for topping in toppings:\n",
    "        print(f\"- {topping}\")\n",
    "\n",
    "make_pizza(12, 'pepperoni', 'mushrooms', 'green peppers')\n",
    "# Output:\n",
    "# Making a 12-inch pizza with the following toppings:\n",
    "# - pepperoni\n",
    "# - mushrooms\n",
    "# - green peppers"
   ]
  },
  {
   "cell_type": "markdown",
   "metadata": {},
   "source": [
    "### 7.Returning Values\n",
    "A function can return a value using the return statement. If no return statement is present, the function returns None."
   ]
  },
  {
   "cell_type": "code",
   "execution_count": 9,
   "metadata": {},
   "outputs": [
    {
     "name": "stdout",
     "output_type": "stream",
     "text": [
      "16\n"
     ]
    }
   ],
   "source": [
    "def square(x):\n",
    "    return x * x\n",
    "\n",
    "print(square(4))  # Output: 16\n"
   ]
  },
  {
   "cell_type": "markdown",
   "metadata": {},
   "source": [
    "### 8. Scope and Lifetime of Variables\n",
    "Variables defined inside a function are local to that function and cannot be accessed from outside. They exist only for the lifetime of the function call."
   ]
  },
  {
   "cell_type": "code",
   "execution_count": 10,
   "metadata": {},
   "outputs": [
    {
     "name": "stdout",
     "output_type": "stream",
     "text": [
      "10\n"
     ]
    }
   ],
   "source": [
    "def my_function():\n",
    "    local_variable = 10\n",
    "    print(local_variable)\n",
    "\n",
    "my_function()  # Output: 10\n",
    "# print(local_variable)  # This will raise an error: NameError: name 'local_variable' is not defined"
   ]
  },
  {
   "cell_type": "markdown",
   "metadata": {},
   "source": [
    "### 9. Documentation Strings\n",
    "You can add a documentation string (docstring) to a function to describe what it does. Docstrings are enclosed in triple quotes \"\"\"."
   ]
  },
  {
   "cell_type": "code",
   "execution_count": 11,
   "metadata": {},
   "outputs": [
    {
     "name": "stdout",
     "output_type": "stream",
     "text": [
      "\n",
      "    This function takes two numbers and returns their product.\n",
      "    \n"
     ]
    }
   ],
   "source": [
    "def multiply(x, y):\n",
    "    \"\"\"\n",
    "    This function takes two numbers and returns their product.\n",
    "    \"\"\"\n",
    "    return x * y\n",
    "\n",
    "print(multiply.__doc__)  # Output: This function takes two numbers and returns their product.\n"
   ]
  },
  {
   "cell_type": "code",
   "execution_count": null,
   "metadata": {},
   "outputs": [],
   "source": []
  }
 ],
 "metadata": {
  "kernelspec": {
   "display_name": "Python 3",
   "language": "python",
   "name": "python3"
  },
  "language_info": {
   "codemirror_mode": {
    "name": "ipython",
    "version": 3
   },
   "file_extension": ".py",
   "mimetype": "text/x-python",
   "name": "python",
   "nbconvert_exporter": "python",
   "pygments_lexer": "ipython3",
   "version": "3.12.0"
  }
 },
 "nbformat": 4,
 "nbformat_minor": 2
}
