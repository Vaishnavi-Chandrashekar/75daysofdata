{
 "cells": [
  {
   "cell_type": "markdown",
   "metadata": {},
   "source": [
    "# Data Structures"
   ]
  },
  {
   "cell_type": "markdown",
   "metadata": {},
   "source": [
    "## Lists \n",
    "Lists in Python are versatile, ordered collections of items that can be of any type, including other lists. They are defined using square brackets ([]) and items are separated by commas. Here are some basic operations and features of lists in Python:"
   ]
  },
  {
   "cell_type": "code",
   "execution_count": 50,
   "metadata": {},
   "outputs": [
    {
     "name": "stdout",
     "output_type": "stream",
     "text": [
      "[]\n",
      "[1, 2, 3, 4, 5]\n",
      "[1, 'hello', 3.14, True]\n",
      "[[1, 2], [3, 4], [5, 6]]\n"
     ]
    }
   ],
   "source": [
    "#creating a list\n",
    "\n",
    "# An empty list\n",
    "empty_list = []\n",
    "print(empty_list)\n",
    "\n",
    "# A list of integers\n",
    "int_list = [1, 2, 3, 4, 5]\n",
    "print(int_list)\n",
    "\n",
    "# A list of mixed data types\n",
    "mixed_list = [1, \"hello\", 3.14, True]\n",
    "print(mixed_list)\n",
    "\n",
    "# A list of lists\n",
    "nested_list = [[1, 2], [3, 4], [5, 6]]\n",
    "print(nested_list)"
   ]
  },
  {
   "cell_type": "code",
   "execution_count": 51,
   "metadata": {},
   "outputs": [
    {
     "name": "stdout",
     "output_type": "stream",
     "text": [
      "1\n",
      "hello\n",
      "5\n",
      "3.14\n"
     ]
    }
   ],
   "source": [
    "#Accessig elements\n",
    "\n",
    "int_list = [1, 2, 3, 4, 5]\n",
    "mixed_list = [1, \"hello\", 3.14, True]\n",
    "\n",
    "# Accessing elements by index (zero-based)\n",
    "print(int_list[0])  # Output: 1\n",
    "print(mixed_list[1])  # Output: \"hello\"\n",
    "\n",
    "# Negative indexing (from the end)\n",
    "print(int_list[-1])  # Output: 5\n",
    "print(mixed_list[-2])  # Output: 3.14\n"
   ]
  },
  {
   "cell_type": "code",
   "execution_count": 52,
   "metadata": {},
   "outputs": [
    {
     "name": "stdout",
     "output_type": "stream",
     "text": [
      "[1, 2, 10, 4, 5]\n",
      "[1, 2, 10, 4, 5, 6]\n",
      "[1, 2, 99, 10, 4, 5, 6]\n",
      "[1, 2, 10, 4, 5, 6]\n",
      "6\n",
      "[1, 2, 10, 4, 5]\n"
     ]
    }
   ],
   "source": [
    "#Modifying lists\n",
    "\n",
    "int_list = [1, 2, 3, 4, 5]\n",
    "\n",
    "# Changing an element\n",
    "int_list[2] = 10\n",
    "print(int_list)  # Output: [1, 2, 10, 4, 5]\n",
    "\n",
    "# Adding elements\n",
    "int_list.append(6) #adds the item towards the end\n",
    "print(int_list)  # Output: [1, 2, 10, 4, 5, 6]\n",
    "\n",
    "# Inserting elements at a specific position\n",
    "int_list.insert(2, 99)\n",
    "print(int_list)  # Output: [1, 2, 99, 10, 4, 5, 6]\n",
    "\n",
    "# Removing elements\n",
    "int_list.remove(99)  # Remove first occurrence of 99\n",
    "print(int_list)  # Output: [1, 2, 10, 4, 5, 6]\n",
    "\n",
    "# Popping elements (removes and returns the last element if no index is specified)\n",
    "popped_element = int_list.pop()\n",
    "print(popped_element)  # Output: 6\n",
    "print(int_list)  # Output: [1, 2, 10, 4, 5]\n"
   ]
  },
  {
   "cell_type": "code",
   "execution_count": 53,
   "metadata": {},
   "outputs": [
    {
     "name": "stdout",
     "output_type": "stream",
     "text": [
      "[1, 2, 10, 4, 5, 6, 7, 2, 8]\n",
      "3\n",
      "2\n",
      "[1, 2, 2, 4, 5, 6, 7, 8, 10]\n",
      "[10, 8, 7, 6, 5, 4, 2, 2, 1]\n",
      "[]\n"
     ]
    }
   ],
   "source": [
    "# Extending a list\n",
    "int_list.extend([6, 7, 2, 8])\n",
    "print(int_list)  # Output: [1, 2, 10, 4, 5, 6, 7, 2, 8]\n",
    "\n",
    "# Finding an element's index\n",
    "index_of_4 = int_list.index(4)\n",
    "print(index_of_4)  # Output: 2\n",
    "\n",
    "# Counting occurrences of an element\n",
    "count_of_2 = int_list.count(2)\n",
    "print(count_of_2)  # Output: 2\n",
    "\n",
    "# Sorting a list\n",
    "int_list.sort()\n",
    "print(int_list)  # Output: [1, 2, 4, 5, 6, 7, 8, 10]\n",
    "\n",
    "# Reversing a list\n",
    "int_list.reverse()\n",
    "print(int_list)  # Output: [10, 8, 7, 6, 5, 4, 2, 1]\n",
    "\n",
    "# Clearing all elements\n",
    "int_list.clear()\n",
    "print(int_list)  # Output: []"
   ]
  },
  {
   "cell_type": "code",
   "execution_count": 54,
   "metadata": {},
   "outputs": [
    {
     "name": "stdout",
     "output_type": "stream",
     "text": [
      "[2, 3]\n",
      "[1, 'hello']\n",
      "[3.14, True]\n"
     ]
    }
   ],
   "source": [
    "#Slicing\n",
    "\n",
    "int_list = [1, 2, 3, 4, 5]\n",
    "mixed_list = [1, \"hello\", 3.14, True]\n",
    "\n",
    "# Slicing lists (start index is inclusive, end index is exclusive)\n",
    "print(int_list[1:3])  # Output: [2, 3]\n",
    "print(mixed_list[:2])  # Output: [1, \"hello\"]\n",
    "print(mixed_list[2:])  # Output: [3.14, True]"
   ]
  },
  {
   "cell_type": "code",
   "execution_count": 55,
   "metadata": {},
   "outputs": [
    {
     "name": "stdout",
     "output_type": "stream",
     "text": [
      "[3, 4, 5]\n",
      "[1, 2, 3, 4, 5]\n",
      "[6, 7, 8, 9, 10]\n",
      "[1, 3, 5, 7, 9]\n",
      "[1, 2, 3, 4, 5, 6, 7, 8, 9]\n",
      "[10]\n",
      "[10, 9, 8, 7, 6, 5, 4, 3, 2, 1]\n"
     ]
    }
   ],
   "source": [
    "numbers = [1,2,3,4,5,6,7,8,9,10]\n",
    "print(numbers[2:5])\n",
    "print(numbers[:5])\n",
    "print(numbers[5:])\n",
    "print(numbers[::2])\n",
    "print(numbers[:-1])\n",
    "print(numbers[-1:])\n",
    "print(numbers[::-1])"
   ]
  },
  {
   "cell_type": "code",
   "execution_count": 56,
   "metadata": {},
   "outputs": [
    {
     "name": "stdout",
     "output_type": "stream",
     "text": [
      "1\n",
      "2\n",
      "3\n",
      "4\n",
      "5\n",
      "6\n",
      "7\n",
      "8\n",
      "9\n",
      "10\n"
     ]
    }
   ],
   "source": [
    "#iterating over lists\n",
    "for number in numbers:\n",
    "    print(number)"
   ]
  },
  {
   "cell_type": "markdown",
   "metadata": {},
   "source": [
    "The `enumerate` function in Python is a built-in function that adds a counter to an iterable and returns it as an enumerate object. This object can then be used to iterate over the iterable with both the index and the value of each item.\n",
    "\n",
    "Syntax: `enumerate(iterable, start=0)`\n",
    "\n",
    "* iterable: A sequence, an iterator, or some other object that supports iteration.\n",
    "* start: The index to start counting from (default is 0).\n"
   ]
  },
  {
   "cell_type": "code",
   "execution_count": 57,
   "metadata": {},
   "outputs": [
    {
     "name": "stdout",
     "output_type": "stream",
     "text": [
      "0 apple\n",
      "1 banana\n",
      "2 cherry\n"
     ]
    }
   ],
   "source": [
    "# List of items\n",
    "fruits = ['apple', 'banana', 'cherry']\n",
    "\n",
    "# Using enumerate to get index and value\n",
    "for index, fruit in enumerate(fruits):\n",
    "    print(index, fruit)\n"
   ]
  },
  {
   "cell_type": "code",
   "execution_count": 58,
   "metadata": {},
   "outputs": [
    {
     "name": "stdout",
     "output_type": "stream",
     "text": [
      "1 apple\n",
      "2 banana\n",
      "3 cherry\n"
     ]
    }
   ],
   "source": [
    "#starting at a different index\n",
    "# Starting the index at 1\n",
    "for index, fruit in enumerate(fruits, start=1):\n",
    "    print(index, fruit)"
   ]
  },
  {
   "cell_type": "code",
   "execution_count": 59,
   "metadata": {},
   "outputs": [
    {
     "name": "stdout",
     "output_type": "stream",
     "text": [
      "0 1\n",
      "1 2\n",
      "2 3\n",
      "3 4\n",
      "4 5\n",
      "5 6\n",
      "6 7\n",
      "7 8\n",
      "8 9\n",
      "9 10\n"
     ]
    }
   ],
   "source": [
    "#iterating with index\n",
    "for index, number in enumerate(numbers):\n",
    "    print(index, number)"
   ]
  },
  {
   "cell_type": "markdown",
   "metadata": {},
   "source": [
    "# List Comprehensions\n",
    "List comprehensions provide a concise way to create lists.\n",
    "\n",
    "Syntax:    `[expression for item in iterable]`\n",
    "\n",
    "With conditional logic: `[expression for item in iterable if condition]`\n",
    "\n",
    "Nested List Comprehension: `[expression for item1 in iterable1 for item2 in iterable2]`"
   ]
  },
  {
   "cell_type": "code",
   "execution_count": 60,
   "metadata": {},
   "outputs": [
    {
     "name": "stdout",
     "output_type": "stream",
     "text": [
      "[0, 1, 4, 9, 16, 25, 36, 49, 64, 81]\n"
     ]
    }
   ],
   "source": [
    "lst = []\n",
    "\n",
    "for x in range(10):\n",
    "    lst.append(x**2)\n",
    "\n",
    "print(lst)"
   ]
  },
  {
   "cell_type": "code",
   "execution_count": 61,
   "metadata": {},
   "outputs": [
    {
     "name": "stdout",
     "output_type": "stream",
     "text": [
      "[0, 1, 4, 9, 16, 25, 36, 49, 64, 81]\n"
     ]
    }
   ],
   "source": [
    "# Basic list comprehension\n",
    "squares = [x ** 2 for x in range(10)]\n",
    "print(squares)  # Output: [0, 1, 4, 9, 16, 25, 36, 49, 64, 81]"
   ]
  },
  {
   "cell_type": "code",
   "execution_count": 62,
   "metadata": {},
   "outputs": [
    {
     "data": {
      "text/plain": [
       "[0, 2, 4, 6, 8]"
      ]
     },
     "execution_count": 62,
     "metadata": {},
     "output_type": "execute_result"
    }
   ],
   "source": [
    "lst1 = []\n",
    "for i in range(10):\n",
    "    if i%2==0:\n",
    "        lst1.append(i)\n",
    "\n",
    "lst1\n",
    "        "
   ]
  },
  {
   "cell_type": "code",
   "execution_count": 63,
   "metadata": {},
   "outputs": [
    {
     "name": "stdout",
     "output_type": "stream",
     "text": [
      "[0, 2, 4, 6, 8]\n"
     ]
    }
   ],
   "source": [
    "evn_lst = [i for i in range(10) if i%2 == 0]\n",
    "print(evn_lst)"
   ]
  },
  {
   "cell_type": "code",
   "execution_count": 64,
   "metadata": {},
   "outputs": [
    {
     "name": "stdout",
     "output_type": "stream",
     "text": [
      "[0, 4, 16, 36, 64]\n"
     ]
    }
   ],
   "source": [
    "# List comprehension with condition\n",
    "even_squares = [x ** 2 for x in range(10) if x % 2 == 0]\n",
    "print(even_squares)  # Output: [0, 4, 16, 36, 64]"
   ]
  },
  {
   "cell_type": "code",
   "execution_count": 65,
   "metadata": {},
   "outputs": [
    {
     "name": "stdout",
     "output_type": "stream",
     "text": [
      "[(1, 'a'), (1, 'b'), (1, 'c'), (1, 'd'), (2, 'a'), (2, 'b'), (2, 'c'), (2, 'd'), (3, 'a'), (3, 'b'), (3, 'c'), (3, 'd'), (4, 'a'), (4, 'b'), (4, 'c'), (4, 'd')]\n",
      "1 a,1 b,1 c,1 d,2 a,2 b,2 c,2 d,3 a,3 b,3 c,3 d,4 a,4 b,4 c,4 d,"
     ]
    }
   ],
   "source": [
    "#nested list comprehension\n",
    "\n",
    "lst1 = [1,2,3,4]\n",
    "lst2 = ['a','b','c','d']\n",
    "\n",
    "pair = [(i,j) for i in lst1 for j in lst2]\n",
    "print(pair)\n",
    "\n",
    "for i in lst1:\n",
    "    for j in lst2:\n",
    "        print(i,j, end=',')"
   ]
  },
  {
   "cell_type": "code",
   "execution_count": 66,
   "metadata": {},
   "outputs": [
    {
     "name": "stdout",
     "output_type": "stream",
     "text": [
      "[5, 5, 6, 5, 12]\n"
     ]
    }
   ],
   "source": [
    "#list comprehension with function calls\n",
    "words = ['hello', 'world', 'python', 'lisst', 'comprehenson']\n",
    "lengths = [len(word) for word in words]\n",
    "print(lengths)"
   ]
  },
  {
   "cell_type": "code",
   "execution_count": 67,
   "metadata": {},
   "outputs": [
    {
     "name": "stdout",
     "output_type": "stream",
     "text": [
      "[2, 1, 1, 1, 4]\n"
     ]
    }
   ],
   "source": [
    "# List of words\n",
    "words = ['hello', 'world', 'python', 'lisst', 'comprehenson']\n",
    "\n",
    "# Custom function to count vowels in a word\n",
    "def count_vowels(word):\n",
    "    vowels = \"aeiou\"\n",
    "    return sum(1 for char in word if char in vowels)\n",
    "\n",
    "# List comprehension to get the number of vowels in each word\n",
    "vowel_counts = [count_vowels(word) for word in words]\n",
    "\n",
    "# Printing the vowel counts\n",
    "print(vowel_counts)\n",
    "\n",
    "# Output:\n",
    "# [2, 1, 1, 1, 4]"
   ]
  },
  {
   "cell_type": "code",
   "execution_count": 68,
   "metadata": {},
   "outputs": [
    {
     "name": "stdout",
     "output_type": "stream",
     "text": [
      "['0: apple', '1: banana', '2: cherry']\n"
     ]
    }
   ],
   "source": [
    "#Using Enumerate with List Comprehensions\n",
    "\n",
    "# Creating a list of strings with indices\n",
    "indexed_fruits = [f\"{index}: {fruit}\" for index, fruit in enumerate(fruits)]\n",
    "print(indexed_fruits)\n"
   ]
  },
  {
   "cell_type": "code",
   "execution_count": null,
   "metadata": {},
   "outputs": [],
   "source": []
  }
 ],
 "metadata": {
  "kernelspec": {
   "display_name": "Python 3",
   "language": "python",
   "name": "python3"
  },
  "language_info": {
   "codemirror_mode": {
    "name": "ipython",
    "version": 3
   },
   "file_extension": ".py",
   "mimetype": "text/x-python",
   "name": "python",
   "nbconvert_exporter": "python",
   "pygments_lexer": "ipython3",
   "version": "3.12.0"
  }
 },
 "nbformat": 4,
 "nbformat_minor": 2
}
