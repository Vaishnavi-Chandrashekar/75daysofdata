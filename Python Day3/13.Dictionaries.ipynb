{
 "cells": [
  {
   "cell_type": "markdown",
   "metadata": {},
   "source": [
    "In Python, a `dictionary` is an unordered collection of items, where each item is stored as a key-value pair. Dictionaries are mutable, meaning you can change their content. They are indexed by keys, which can be of any immutable type, typically strings or numbers. Keys should be unique."
   ]
  },
  {
   "cell_type": "markdown",
   "metadata": {},
   "source": [
    "### Creating Dictionaries\n"
   ]
  },
  {
   "cell_type": "code",
   "execution_count": 2,
   "metadata": {},
   "outputs": [
    {
     "data": {
      "text/plain": [
       "{'key1': 'value1', 'key2': 'value2'}"
      ]
     },
     "execution_count": 2,
     "metadata": {},
     "output_type": "execute_result"
    }
   ],
   "source": [
    "#Using Curly Braces:\n",
    "\n",
    "my_dict = {'key1': 'value1', 'key2': 'value2'}\n",
    "my_dict"
   ]
  },
  {
   "cell_type": "code",
   "execution_count": 3,
   "metadata": {},
   "outputs": [
    {
     "data": {
      "text/plain": [
       "{'key1': 'value1', 'key2': 'value2'}"
      ]
     },
     "execution_count": 3,
     "metadata": {},
     "output_type": "execute_result"
    }
   ],
   "source": [
    "#Using the dict() Constructor:\n",
    "\n",
    "my_dict = dict(key1='value1', key2='value2')\n",
    "my_dict"
   ]
  },
  {
   "cell_type": "code",
   "execution_count": 4,
   "metadata": {},
   "outputs": [
    {
     "data": {
      "text/plain": [
       "{}"
      ]
     },
     "execution_count": 4,
     "metadata": {},
     "output_type": "execute_result"
    }
   ],
   "source": [
    "#Empty Dictionary:\n",
    "\n",
    "empty_dict = {}\n",
    "empty_dict"
   ]
  },
  {
   "cell_type": "markdown",
   "metadata": {},
   "source": [
    "### Accessing Dictionary Values\n"
   ]
  },
  {
   "cell_type": "code",
   "execution_count": 23,
   "metadata": {},
   "outputs": [
    {
     "name": "stdout",
     "output_type": "stream",
     "text": [
      "Alice\n",
      "25\n"
     ]
    }
   ],
   "source": [
    "#Using Keys:\n",
    "\n",
    "my_dict = {'name': 'Alice', 'age': 25}\n",
    "print(my_dict['name']) # Output: Alice\n",
    "print(my_dict['age'])"
   ]
  },
  {
   "cell_type": "code",
   "execution_count": 27,
   "metadata": {},
   "outputs": [
    {
     "name": "stdout",
     "output_type": "stream",
     "text": [
      "Alice\n",
      "Not Found\n"
     ]
    }
   ],
   "source": [
    "#Using get() Method:\n",
    "\n",
    "print(my_dict.get('name'))  # Output: Alice\n",
    "print(my_dict.get('address', 'Not Found'))  # Output: Not Found\n"
   ]
  },
  {
   "cell_type": "markdown",
   "metadata": {},
   "source": [
    "### Adding and Modifying Elements\n"
   ]
  },
  {
   "cell_type": "code",
   "execution_count": 7,
   "metadata": {},
   "outputs": [
    {
     "name": "stdout",
     "output_type": "stream",
     "text": [
      "{'name': 'Alice', 'age': 25, 'address': '123 Main St'}\n"
     ]
    }
   ],
   "source": [
    "#Adding New Key-Value Pairs:\n",
    "\n",
    "my_dict['address'] = '123 Main St'\n",
    "print(my_dict)  # Output: {'name': 'Alice', 'age': 25, 'address': '123 Main St'}"
   ]
  },
  {
   "cell_type": "code",
   "execution_count": 28,
   "metadata": {},
   "outputs": [
    {
     "name": "stdout",
     "output_type": "stream",
     "text": [
      "{'name': 'Alice', 'age': 26}\n"
     ]
    }
   ],
   "source": [
    "#Modifying Existing Key-Value Pairs:\n",
    "\n",
    "my_dict['age'] = 26\n",
    "print(my_dict)  # Output: {'name': 'Alice', 'age': 26, 'address': '123 Main St'}"
   ]
  },
  {
   "cell_type": "markdown",
   "metadata": {},
   "source": [
    "### Removing Elements\n"
   ]
  },
  {
   "cell_type": "code",
   "execution_count": 9,
   "metadata": {},
   "outputs": [
    {
     "name": "stdout",
     "output_type": "stream",
     "text": [
      "{'name': 'Alice', 'age': 26}\n"
     ]
    }
   ],
   "source": [
    "#Using del Statement:\n",
    "\n",
    "del my_dict['address']\n",
    "print(my_dict)  # Output: {'name': 'Alice', 'age': 26}"
   ]
  },
  {
   "cell_type": "code",
   "execution_count": 10,
   "metadata": {},
   "outputs": [
    {
     "name": "stdout",
     "output_type": "stream",
     "text": [
      "26\n",
      "{'name': 'Alice'}\n"
     ]
    }
   ],
   "source": [
    "#Using pop() Method:\n",
    "\n",
    "age = my_dict.pop('age')\n",
    "print(age)  # Output: 26\n",
    "print(my_dict)  # Output: {'name': 'Alice'}"
   ]
  },
  {
   "cell_type": "code",
   "execution_count": 11,
   "metadata": {},
   "outputs": [
    {
     "name": "stdout",
     "output_type": "stream",
     "text": [
      "('name', 'Alice')\n",
      "{}\n"
     ]
    }
   ],
   "source": [
    "#Using popitem() Method: Removes and returns the last key-value pair.\n",
    "\n",
    "item = my_dict.popitem()\n",
    "print(item)  # Output: ('name', 'Alice')\n",
    "print(my_dict)  # Output: {}"
   ]
  },
  {
   "cell_type": "code",
   "execution_count": 12,
   "metadata": {},
   "outputs": [
    {
     "name": "stdout",
     "output_type": "stream",
     "text": [
      "{}\n"
     ]
    }
   ],
   "source": [
    "#Using clear() Method: Removes all items.\n",
    "\n",
    "my_dict.clear()\n",
    "print(my_dict)  # Output: {}"
   ]
  },
  {
   "cell_type": "markdown",
   "metadata": {},
   "source": [
    "Dictionary Methods"
   ]
  },
  {
   "cell_type": "code",
   "execution_count": 29,
   "metadata": {},
   "outputs": [
    {
     "name": "stdout",
     "output_type": "stream",
     "text": [
      "dict_keys(['name', 'age'])\n"
     ]
    }
   ],
   "source": [
    "#keys(): Returns a view object of keys.\n",
    "\n",
    "my_dict = {'name': 'Alice', 'age': 25}\n",
    "\n",
    "keys = my_dict.keys()\n",
    "print(keys)  # Output: dict_keys(['name', 'age'])"
   ]
  },
  {
   "cell_type": "code",
   "execution_count": 30,
   "metadata": {},
   "outputs": [
    {
     "name": "stdout",
     "output_type": "stream",
     "text": [
      "dict_values(['Alice', 25])\n"
     ]
    }
   ],
   "source": [
    "#values(): Returns a view object of values.\n",
    "my_dict = {'name': 'Alice', 'age': 25}\n",
    "\n",
    "values = my_dict.values()\n",
    "print(values)  # Output: dict_values(['Alice', 25])"
   ]
  },
  {
   "cell_type": "code",
   "execution_count": 31,
   "metadata": {},
   "outputs": [
    {
     "name": "stdout",
     "output_type": "stream",
     "text": [
      "dict_items([('name', 'Alice'), ('age', 25)])\n"
     ]
    }
   ],
   "source": [
    "#items(): Returns a view object of key-value pairs.\n",
    "my_dict = {'name': 'Alice', 'age': 25}\n",
    "\n",
    "items = my_dict.items()\n",
    "print(items)  # Output: dict_items([('name', 'Alice'), ('age', 25)])"
   ]
  },
  {
   "cell_type": "code",
   "execution_count": 32,
   "metadata": {},
   "outputs": [
    {
     "name": "stdout",
     "output_type": "stream",
     "text": [
      "{'name': 'Alice', 'age': 30, 'gender': 'Female'}\n"
     ]
    }
   ],
   "source": [
    "#update(): Updates the dictionary with elements from another dictionary or from an iterable of key-value pairs.\n",
    "my_dict = {'name': 'Alice', 'age': 25}\n",
    "\n",
    "my_dict.update({'gender': 'Female', 'age': 30})\n",
    "print(my_dict)  # Output: {'name': 'Alice', 'age': 30, 'gender': 'Female'}"
   ]
  },
  {
   "cell_type": "code",
   "execution_count": 33,
   "metadata": {},
   "outputs": [
    {
     "name": "stdout",
     "output_type": "stream",
     "text": [
      "{'name': 'Alice', 'age': 30, 'gender': 'Female'}\n",
      "{'name': 'Alice', 'age': 30, 'gender': 'Female'}\n"
     ]
    }
   ],
   "source": [
    "#shallow copy\n",
    "my_dict_copy = my_dict\n",
    "print(my_dict)\n",
    "print(my_dict_copy)"
   ]
  },
  {
   "cell_type": "markdown",
   "metadata": {},
   "source": [
    "### Dictionary Comprehensions"
   ]
  },
  {
   "cell_type": "code",
   "execution_count": 17,
   "metadata": {},
   "outputs": [
    {
     "name": "stdout",
     "output_type": "stream",
     "text": [
      "{0: 0, 1: 1, 2: 4, 3: 9, 4: 16, 5: 25}\n"
     ]
    }
   ],
   "source": [
    "#Creating Dictionaries Using Comprehensions:\n",
    "\n",
    "squares = {x: x ** 2 for x in range(6)}\n",
    "print(squares)  # Output: {0: 0, 1: 1, 2: 4, 3: 9, 4: 16, 5: 25}"
   ]
  },
  {
   "cell_type": "code",
   "execution_count": 39,
   "metadata": {},
   "outputs": [
    {
     "name": "stdout",
     "output_type": "stream",
     "text": [
      "{0: 0, 2: 4, 4: 16, 6: 36, 8: 64}\n"
     ]
    }
   ],
   "source": [
    "evens = {x:x**2 for x in range(10) if x%2==0}\n",
    "print(evens)"
   ]
  },
  {
   "cell_type": "markdown",
   "metadata": {},
   "source": [
    "### Practical Uses of Dictionaries"
   ]
  },
  {
   "cell_type": "code",
   "execution_count": 40,
   "metadata": {},
   "outputs": [
    {
     "name": "stdout",
     "output_type": "stream",
     "text": [
      "{1: 1, 2: 2, 3: 3, 4: 4}\n"
     ]
    }
   ],
   "source": [
    "#counting the frequency of elements\n",
    "\n",
    "numbers = [1,2,2,3,3,3,4,4,4,4]\n",
    "frequency = {}\n",
    "\n",
    "for number in numbers:\n",
    "    if number in frequency:\n",
    "        frequency[number] += 1\n",
    "    else:\n",
    "        frequency[number] = 1\n",
    "print(frequency)"
   ]
  },
  {
   "cell_type": "code",
   "execution_count": 18,
   "metadata": {},
   "outputs": [
    {
     "name": "stdout",
     "output_type": "stream",
     "text": [
      "{'h': 1, 'e': 1, 'l': 3, 'o': 2, ' ': 1, 'w': 1, 'r': 1, 'd': 1}\n"
     ]
    }
   ],
   "source": [
    "#Counting Frequency of Elements:\n",
    "\n",
    "text = \"hello world\"\n",
    "freq = {}\n",
    "for char in text:\n",
    "    if char in freq:\n",
    "        freq[char] += 1\n",
    "    else:\n",
    "        freq[char] = 1\n",
    "print(freq)  # Output: {'h': 1, 'e': 1, 'l': 3, 'o': 2, ' ': 1, 'w': 1, 'r': 1, 'd': 1}\n"
   ]
  },
  {
   "cell_type": "code",
   "execution_count": 41,
   "metadata": {},
   "outputs": [
    {
     "name": "stdout",
     "output_type": "stream",
     "text": [
      "{'a': 1, 'b': 3, 'c': 4}\n"
     ]
    }
   ],
   "source": [
    "### Merging 2 dictionaries into one\n",
    "\n",
    "dict1 = {'a':1, 'b':2}\n",
    "dict2 = {'b':3, 'c':4}\n",
    "\n",
    "merged_dict = {**dict1, **dict2}\n",
    "print(merged_dict)"
   ]
  },
  {
   "cell_type": "code",
   "execution_count": 19,
   "metadata": {},
   "outputs": [],
   "source": [
    "#Storing Data in a Structured Way:\n",
    "\n",
    "student = {\n",
    "    'name': 'John',\n",
    "    'age': 22,\n",
    "    'courses': ['Math', 'CompSci']\n",
    "}\n"
   ]
  },
  {
   "cell_type": "code",
   "execution_count": 20,
   "metadata": {},
   "outputs": [
    {
     "name": "stdout",
     "output_type": "stream",
     "text": [
      "A\n"
     ]
    }
   ],
   "source": [
    "#Retrieving Data Using Keys:\n",
    "\n",
    "students = {\n",
    "    'Alice': {'age': 25, 'grade': 'A'},\n",
    "    'Bob': {'age': 22, 'grade': 'B'}\n",
    "}\n",
    "print(students['Alice']['grade'])  # Output: A\n"
   ]
  },
  {
   "cell_type": "markdown",
   "metadata": {},
   "source": [
    "### Iterating dictionaries"
   ]
  },
  {
   "cell_type": "code",
   "execution_count": 34,
   "metadata": {},
   "outputs": [
    {
     "name": "stdout",
     "output_type": "stream",
     "text": [
      "name\n",
      "age\n",
      "gender\n"
     ]
    }
   ],
   "source": [
    "#iterating over keys\n",
    "for keys in my_dict.keys():\n",
    "    print(keys)"
   ]
  },
  {
   "cell_type": "code",
   "execution_count": 35,
   "metadata": {},
   "outputs": [
    {
     "name": "stdout",
     "output_type": "stream",
     "text": [
      "Alice\n",
      "30\n",
      "Female\n"
     ]
    }
   ],
   "source": [
    "#iterating over values\n",
    "for value in my_dict.values():\n",
    "    print(value)"
   ]
  },
  {
   "cell_type": "code",
   "execution_count": 36,
   "metadata": {},
   "outputs": [
    {
     "name": "stdout",
     "output_type": "stream",
     "text": [
      "name:Alice\n",
      "age:30\n",
      "gender:Female\n"
     ]
    }
   ],
   "source": [
    "#iterating over key value pairs\n",
    "for keys, values in my_dict.items():\n",
    "    print(f\"{keys}:{values}\")"
   ]
  },
  {
   "cell_type": "markdown",
   "metadata": {},
   "source": [
    "### Nested Dictionaries"
   ]
  },
  {
   "cell_type": "code",
   "execution_count": 37,
   "metadata": {},
   "outputs": [
    {
     "name": "stdout",
     "output_type": "stream",
     "text": [
      "alice\n"
     ]
    }
   ],
   "source": [
    "#Creating Nested Dictionaries:\n",
    "\n",
    "nested_dict = {\n",
    "    'key1': {'name': 'alice', 'age': 24},\n",
    "    'key2': {'name': 'tara', 'age': 23}\n",
    "}\n",
    "print(nested_dict['key1']['name'])  # Output: alice"
   ]
  },
  {
   "cell_type": "code",
   "execution_count": 38,
   "metadata": {},
   "outputs": [
    {
     "name": "stdout",
     "output_type": "stream",
     "text": [
      "key1:{'name': 'alice', 'age': 24}\n",
      "name:alice\n",
      "age:24\n",
      "key2:{'name': 'tara', 'age': 23}\n",
      "name:tara\n",
      "age:23\n"
     ]
    }
   ],
   "source": [
    "#iterating over nested dictionaries\n",
    "for std_id, std_info in nested_dict.items():\n",
    "    print(f'{std_id}:{std_info}')\n",
    "    for key, value in std_info.items():\n",
    "        print(f'{key}:{value}')\n",
    "    "
   ]
  },
  {
   "cell_type": "markdown",
   "metadata": {},
   "source": [
    "Dictionaries in Python are powerful tools for storing and managing data with key-value pairs. They offer efficient lookup, insertion, and deletion of elements, making them a fundamental part of Python's data structure toolkit.\n",
    "\n",
    "\n",
    "\n",
    "\n",
    "\n"
   ]
  }
 ],
 "metadata": {
  "kernelspec": {
   "display_name": "Python 3",
   "language": "python",
   "name": "python3"
  },
  "language_info": {
   "codemirror_mode": {
    "name": "ipython",
    "version": 3
   },
   "file_extension": ".py",
   "mimetype": "text/x-python",
   "name": "python",
   "nbconvert_exporter": "python",
   "pygments_lexer": "ipython3",
   "version": "3.12.0"
  }
 },
 "nbformat": 4,
 "nbformat_minor": 2
}
